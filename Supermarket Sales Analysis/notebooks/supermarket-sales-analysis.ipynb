{
 "cells": [
  {
   "cell_type": "code",
   "execution_count": 1,
   "id": "f6c37585",
   "metadata": {
    "papermill": {
     "duration": 2.948692,
     "end_time": "2025-05-07T07:56:45.925917",
     "exception": false,
     "start_time": "2025-05-07T07:56:42.977225",
     "status": "completed"
    },
    "tags": []
   },
   "outputs": [],
   "source": [
    "import numpy\n",
    "import pandas\n",
    "import matplotlib\n",
    "import seaborn\n",
    "import warnings\n",
    "matplotlib.pyplot.style.use('dark_background')\n",
    "PALETTE = [\"#10002B\", \"#240046\", \"#3C096C\", \"#5A189A\", \"#7B2CBF\", \"#9D4EDD\", \"#C77DFF\", \"#E0AAFF\"]\n",
    "warnings.filterwarnings(\"ignore\")"
   ]
  },
  {
   "cell_type": "code",
   "execution_count": 2,
   "id": "02c27577",
   "metadata": {
    "papermill": {
     "duration": 0.09632,
     "end_time": "2025-05-07T07:56:46.030612",
     "exception": false,
     "start_time": "2025-05-07T07:56:45.934292",
     "status": "completed"
    },
    "tags": []
   },
   "outputs": [],
   "source": [
    "sales=pandas.read_csv(\"/home/hussein-ali/CORE/Supermarket Sales Analysis/data/sales-data.csv\")"
   ]
  },
  {
   "cell_type": "code",
   "execution_count": 3,
   "id": "c22ba909",
   "metadata": {
    "papermill": {
     "duration": 0.033294,
     "end_time": "2025-05-07T07:56:46.072464",
     "exception": false,
     "start_time": "2025-05-07T07:56:46.039170",
     "status": "completed"
    },
    "tags": []
   },
   "outputs": [
    {
     "data": {
      "text/html": [
       "<div>\n",
       "<style scoped>\n",
       "    .dataframe tbody tr th:only-of-type {\n",
       "        vertical-align: middle;\n",
       "    }\n",
       "\n",
       "    .dataframe tbody tr th {\n",
       "        vertical-align: top;\n",
       "    }\n",
       "\n",
       "    .dataframe thead th {\n",
       "        text-align: right;\n",
       "    }\n",
       "</style>\n",
       "<table border=\"1\" class=\"dataframe\">\n",
       "  <thead>\n",
       "    <tr style=\"text-align: right;\">\n",
       "      <th></th>\n",
       "      <th>Invoice ID</th>\n",
       "      <th>Branch</th>\n",
       "      <th>Yangon</th>\n",
       "      <th>Naypyitaw</th>\n",
       "      <th>Mandalay</th>\n",
       "      <th>Customer type</th>\n",
       "      <th>Gender</th>\n",
       "      <th>Product line</th>\n",
       "      <th>Unit price</th>\n",
       "      <th>Quantity</th>\n",
       "      <th>Tax 5%</th>\n",
       "      <th>Total</th>\n",
       "      <th>Date</th>\n",
       "      <th>Time</th>\n",
       "      <th>Payment</th>\n",
       "      <th>Rating</th>\n",
       "    </tr>\n",
       "  </thead>\n",
       "  <tbody>\n",
       "    <tr>\n",
       "      <th>0</th>\n",
       "      <td>750-67-8428</td>\n",
       "      <td>A</td>\n",
       "      <td>1</td>\n",
       "      <td>0</td>\n",
       "      <td>0</td>\n",
       "      <td>Normal</td>\n",
       "      <td>Male</td>\n",
       "      <td>Health and beauty</td>\n",
       "      <td>74.69</td>\n",
       "      <td>7</td>\n",
       "      <td>26.1415</td>\n",
       "      <td>NaN</td>\n",
       "      <td>1/5/2019</td>\n",
       "      <td>13:08</td>\n",
       "      <td>Ewallet</td>\n",
       "      <td>9.1</td>\n",
       "    </tr>\n",
       "    <tr>\n",
       "      <th>1</th>\n",
       "      <td>226-31-3081</td>\n",
       "      <td>C</td>\n",
       "      <td>0</td>\n",
       "      <td>1</td>\n",
       "      <td>0</td>\n",
       "      <td>Normal</td>\n",
       "      <td>Male</td>\n",
       "      <td>Electronic accessories</td>\n",
       "      <td>15.28</td>\n",
       "      <td>5</td>\n",
       "      <td>3.8200</td>\n",
       "      <td>80.22</td>\n",
       "      <td>3/8/2019</td>\n",
       "      <td>10:29</td>\n",
       "      <td>Cash</td>\n",
       "      <td>9.6</td>\n",
       "    </tr>\n",
       "  </tbody>\n",
       "</table>\n",
       "</div>"
      ],
      "text/plain": [
       "    Invoice ID Branch  Yangon  Naypyitaw  Mandalay Customer type Gender  \\\n",
       "0  750-67-8428      A       1          0         0        Normal   Male   \n",
       "1  226-31-3081      C       0          1         0        Normal   Male   \n",
       "\n",
       "             Product line Unit price  Quantity   Tax 5%  Total      Date  \\\n",
       "0       Health and beauty      74.69         7  26.1415    NaN  1/5/2019   \n",
       "1  Electronic accessories      15.28         5   3.8200  80.22  3/8/2019   \n",
       "\n",
       "    Time  Payment  Rating  \n",
       "0  13:08  Ewallet     9.1  \n",
       "1  10:29     Cash     9.6  "
      ]
     },
     "execution_count": 3,
     "metadata": {},
     "output_type": "execute_result"
    }
   ],
   "source": [
    "sales.head(2)"
   ]
  },
  {
   "cell_type": "code",
   "execution_count": 4,
   "id": "ecc2452d",
   "metadata": {
    "papermill": {
     "duration": 0.028495,
     "end_time": "2025-05-07T07:56:46.109230",
     "exception": false,
     "start_time": "2025-05-07T07:56:46.080735",
     "status": "completed"
    },
    "tags": []
   },
   "outputs": [
    {
     "name": "stdout",
     "output_type": "stream",
     "text": [
      "<class 'pandas.core.frame.DataFrame'>\n",
      "RangeIndex: 1006 entries, 0 to 1005\n",
      "Data columns (total 16 columns):\n",
      " #   Column         Non-Null Count  Dtype  \n",
      "---  ------         --------------  -----  \n",
      " 0   Invoice ID     1006 non-null   object \n",
      " 1   Branch         1006 non-null   object \n",
      " 2   Yangon         1006 non-null   int64  \n",
      " 3   Naypyitaw      1006 non-null   int64  \n",
      " 4   Mandalay       1006 non-null   int64  \n",
      " 5   Customer type  1006 non-null   object \n",
      " 6   Gender         1006 non-null   object \n",
      " 7   Product line   1006 non-null   object \n",
      " 8   Unit price     1006 non-null   object \n",
      " 9   Quantity       1006 non-null   int64  \n",
      " 10  Tax 5%         997 non-null    float64\n",
      " 11  Total          1003 non-null   float64\n",
      " 12  Date           1006 non-null   object \n",
      " 13  Time           1006 non-null   object \n",
      " 14  Payment        1006 non-null   object \n",
      " 15  Rating         1006 non-null   float64\n",
      "dtypes: float64(3), int64(4), object(9)\n",
      "memory usage: 125.9+ KB\n"
     ]
    }
   ],
   "source": [
    "sales.info()"
   ]
  },
  {
   "cell_type": "code",
   "execution_count": 5,
   "id": "9a2f7972",
   "metadata": {
    "papermill": {
     "duration": 0.014067,
     "end_time": "2025-05-07T07:56:46.132240",
     "exception": false,
     "start_time": "2025-05-07T07:56:46.118173",
     "status": "completed"
    },
    "tags": []
   },
   "outputs": [
    {
     "data": {
      "text/plain": [
       "(1006, 16)"
      ]
     },
     "execution_count": 5,
     "metadata": {},
     "output_type": "execute_result"
    }
   ],
   "source": [
    "sales.shape"
   ]
  },
  {
   "cell_type": "code",
   "execution_count": 6,
   "id": "57e70acc",
   "metadata": {
    "papermill": {
     "duration": 0.015419,
     "end_time": "2025-05-07T07:56:46.155888",
     "exception": false,
     "start_time": "2025-05-07T07:56:46.140469",
     "status": "completed"
    },
    "tags": []
   },
   "outputs": [
    {
     "data": {
      "text/plain": [
       "0    NaN\n",
       "14   NaN\n",
       "37   NaN\n",
       "Name: Total, dtype: float64"
      ]
     },
     "execution_count": 6,
     "metadata": {},
     "output_type": "execute_result"
    }
   ],
   "source": [
    "sales[\"Total\"][sales[\"Total\"].isna()]"
   ]
  },
  {
   "cell_type": "code",
   "execution_count": 7,
   "id": "62c0a874",
   "metadata": {
    "papermill": {
     "duration": 0.015007,
     "end_time": "2025-05-07T07:56:46.179252",
     "exception": false,
     "start_time": "2025-05-07T07:56:46.164245",
     "status": "completed"
    },
    "tags": []
   },
   "outputs": [
    {
     "data": {
      "text/plain": [
       "3     NaN\n",
       "8     NaN\n",
       "86    NaN\n",
       "92    NaN\n",
       "97    NaN\n",
       "629   NaN\n",
       "830   NaN\n",
       "881   NaN\n",
       "903   NaN\n",
       "Name: Tax 5%, dtype: float64"
      ]
     },
     "execution_count": 7,
     "metadata": {},
     "output_type": "execute_result"
    }
   ],
   "source": [
    "sales[\"Tax 5%\"][sales[\"Tax 5%\"].isna()]"
   ]
  },
  {
   "cell_type": "code",
   "execution_count": 8,
   "id": "ce087e4f",
   "metadata": {
    "papermill": {
     "duration": 0.013919,
     "end_time": "2025-05-07T07:56:46.201681",
     "exception": false,
     "start_time": "2025-05-07T07:56:46.187762",
     "status": "completed"
    },
    "tags": []
   },
   "outputs": [],
   "source": [
    "sales[\"Unit price\"]  = pandas.to_numeric(sales[\"Unit price\"],errors=\"coerce\")"
   ]
  },
  {
   "cell_type": "code",
   "execution_count": 9,
   "id": "04d8d12e",
   "metadata": {
    "papermill": {
     "duration": 0.015133,
     "end_time": "2025-05-07T07:56:46.225066",
     "exception": false,
     "start_time": "2025-05-07T07:56:46.209933",
     "status": "completed"
    },
    "tags": []
   },
   "outputs": [],
   "source": [
    "sales.loc[0,\"Total\"] = sales.loc[0][\"Quantity\"]  * sales.loc[0][\"Unit price\"]+sales.loc[0][\"Tax 5%\"]\n",
    "sales.loc[14,\"Total\"]= sales.loc[14][\"Quantity\"] * sales.loc[14][\"Unit price\"]+sales.loc[14][\"Tax 5%\"]\n",
    "sales.loc[37,\"Total\"]= sales.loc[37][\"Quantity\"] * sales.loc[37][\"Unit price\"]+sales.loc[37][\"Tax 5%\"]"
   ]
  },
  {
   "cell_type": "code",
   "execution_count": 10,
   "id": "01bbdb86",
   "metadata": {
    "papermill": {
     "duration": 0.015765,
     "end_time": "2025-05-07T07:56:46.249039",
     "exception": false,
     "start_time": "2025-05-07T07:56:46.233274",
     "status": "completed"
    },
    "tags": []
   },
   "outputs": [],
   "source": [
    "sales.loc[3,\"Tax 5%\"]   = (sales.loc[3][\"Total\"])  - (sales.loc[3][\"Quantity\"]  * sales.loc[3][\"Unit price\"]  )\n",
    "sales.loc[8,\"Tax 5%\"]   = (sales.loc[8][\"Total\"])  - (sales.loc[8][\"Quantity\"]  * sales.loc[8][\"Unit price\"]  )\n",
    "sales.loc[86,\"Tax 5%\"]  = (sales.loc[86][\"Total\"]) - (sales.loc[86][\"Quantity\"] * sales.loc[86][\"Unit price\"] )\n",
    "sales.loc[92,\"Tax 5%\"]  = (sales.loc[92][\"Total\"]) - (sales.loc[92][\"Quantity\"] * sales.loc[92][\"Unit price\"] )"
   ]
  },
  {
   "cell_type": "code",
   "execution_count": 11,
   "id": "ec58ff05",
   "metadata": {
    "papermill": {
     "duration": 0.015291,
     "end_time": "2025-05-07T07:56:46.272576",
     "exception": false,
     "start_time": "2025-05-07T07:56:46.257285",
     "status": "completed"
    },
    "tags": []
   },
   "outputs": [],
   "source": [
    "sales.drop(index=[97,629,830,881,903],inplace=True)"
   ]
  },
  {
   "cell_type": "code",
   "execution_count": 12,
   "id": "d041eaeb",
   "metadata": {
    "papermill": {
     "duration": 0.014372,
     "end_time": "2025-05-07T07:56:46.295060",
     "exception": false,
     "start_time": "2025-05-07T07:56:46.280688",
     "status": "completed"
    },
    "tags": []
   },
   "outputs": [
    {
     "name": "stdout",
     "output_type": "stream",
     "text": [
      "0.0\n",
      "0.0\n"
     ]
    }
   ],
   "source": [
    "print(sales[\"Total\"][sales[\"Total\"].isna()].sum())\n",
    "print(sales[\"Tax 5%\"][sales[\"Tax 5%\"].isna()].sum())"
   ]
  },
  {
   "cell_type": "code",
   "execution_count": 13,
   "id": "5859a9aa",
   "metadata": {
    "papermill": {
     "duration": 0.016246,
     "end_time": "2025-05-07T07:56:46.319663",
     "exception": false,
     "start_time": "2025-05-07T07:56:46.303417",
     "status": "completed"
    },
    "tags": []
   },
   "outputs": [
    {
     "data": {
      "text/plain": [
       "Invoice ID       0\n",
       "Branch           0\n",
       "Yangon           0\n",
       "Naypyitaw        0\n",
       "Mandalay         0\n",
       "Customer type    0\n",
       "Gender           0\n",
       "Product line     0\n",
       "Unit price       0\n",
       "Quantity         0\n",
       "Tax 5%           0\n",
       "Total            0\n",
       "Date             0\n",
       "Time             0\n",
       "Payment          0\n",
       "Rating           0\n",
       "dtype: int64"
      ]
     },
     "execution_count": 13,
     "metadata": {},
     "output_type": "execute_result"
    }
   ],
   "source": [
    "sales.isna().sum()"
   ]
  },
  {
   "cell_type": "code",
   "execution_count": 14,
   "id": "b428f52c",
   "metadata": {
    "papermill": {
     "duration": 0.01552,
     "end_time": "2025-05-07T07:56:46.344169",
     "exception": false,
     "start_time": "2025-05-07T07:56:46.328649",
     "status": "completed"
    },
    "tags": []
   },
   "outputs": [
    {
     "data": {
      "text/plain": [
       "Invoice ID       0\n",
       "Branch           0\n",
       "Yangon           0\n",
       "Naypyitaw        0\n",
       "Mandalay         0\n",
       "Customer type    0\n",
       "Gender           0\n",
       "Product line     0\n",
       "Unit price       0\n",
       "Quantity         0\n",
       "Tax 5%           0\n",
       "Total            0\n",
       "Date             0\n",
       "Time             0\n",
       "Payment          0\n",
       "Rating           0\n",
       "dtype: int64"
      ]
     },
     "execution_count": 14,
     "metadata": {},
     "output_type": "execute_result"
    }
   ],
   "source": [
    "sales.isnull().sum()"
   ]
  },
  {
   "cell_type": "code",
   "execution_count": 15,
   "id": "08913629",
   "metadata": {
    "papermill": {
     "duration": 0.016552,
     "end_time": "2025-05-07T07:56:46.369024",
     "exception": false,
     "start_time": "2025-05-07T07:56:46.352472",
     "status": "completed"
    },
    "tags": []
   },
   "outputs": [
    {
     "data": {
      "text/plain": [
       "np.int64(6)"
      ]
     },
     "execution_count": 15,
     "metadata": {},
     "output_type": "execute_result"
    }
   ],
   "source": [
    "sales.duplicated().sum()"
   ]
  },
  {
   "cell_type": "code",
   "execution_count": 16,
   "id": "53e5f938",
   "metadata": {
    "papermill": {
     "duration": 0.017311,
     "end_time": "2025-05-07T07:56:46.436452",
     "exception": false,
     "start_time": "2025-05-07T07:56:46.419141",
     "status": "completed"
    },
    "tags": []
   },
   "outputs": [],
   "source": [
    "sales = sales.drop_duplicates(keep=\"last\")"
   ]
  },
  {
   "cell_type": "code",
   "execution_count": 17,
   "id": "4710df8e",
   "metadata": {
    "papermill": {
     "duration": 0.017482,
     "end_time": "2025-05-07T07:56:46.463100",
     "exception": false,
     "start_time": "2025-05-07T07:56:46.445618",
     "status": "completed"
    },
    "tags": []
   },
   "outputs": [
    {
     "data": {
      "text/plain": [
       "np.int64(0)"
      ]
     },
     "execution_count": 17,
     "metadata": {},
     "output_type": "execute_result"
    }
   ],
   "source": [
    "sales.duplicated().sum()"
   ]
  },
  {
   "cell_type": "code",
   "execution_count": 18,
   "id": "85536053",
   "metadata": {
    "papermill": {
     "duration": 0.019426,
     "end_time": "2025-05-07T07:56:46.491678",
     "exception": false,
     "start_time": "2025-05-07T07:56:46.472252",
     "status": "completed"
    },
    "tags": []
   },
   "outputs": [
    {
     "name": "stdout",
     "output_type": "stream",
     "text": [
      "<class 'pandas.core.frame.DataFrame'>\n",
      "Index: 995 entries, 0 to 1005\n",
      "Data columns (total 16 columns):\n",
      " #   Column         Non-Null Count  Dtype  \n",
      "---  ------         --------------  -----  \n",
      " 0   Invoice ID     995 non-null    object \n",
      " 1   Branch         995 non-null    object \n",
      " 2   Yangon         995 non-null    int64  \n",
      " 3   Naypyitaw      995 non-null    int64  \n",
      " 4   Mandalay       995 non-null    int64  \n",
      " 5   Customer type  995 non-null    object \n",
      " 6   Gender         995 non-null    object \n",
      " 7   Product line   995 non-null    object \n",
      " 8   Unit price     995 non-null    float64\n",
      " 9   Quantity       995 non-null    int64  \n",
      " 10  Tax 5%         995 non-null    float64\n",
      " 11  Total          995 non-null    float64\n",
      " 12  Date           995 non-null    object \n",
      " 13  Time           995 non-null    object \n",
      " 14  Payment        995 non-null    object \n",
      " 15  Rating         995 non-null    float64\n",
      "dtypes: float64(4), int64(4), object(8)\n",
      "memory usage: 132.1+ KB\n"
     ]
    }
   ],
   "source": [
    "sales.info()"
   ]
  },
  {
   "cell_type": "code",
   "execution_count": 19,
   "id": "3f046ecf",
   "metadata": {
    "papermill": {
     "duration": 0.015928,
     "end_time": "2025-05-07T07:56:46.516422",
     "exception": false,
     "start_time": "2025-05-07T07:56:46.500494",
     "status": "completed"
    },
    "tags": []
   },
   "outputs": [
    {
     "data": {
      "text/plain": [
       "Branch\n",
       "A    337\n",
       "B    332\n",
       "C    326\n",
       "Name: count, dtype: int64"
      ]
     },
     "execution_count": 19,
     "metadata": {},
     "output_type": "execute_result"
    }
   ],
   "source": [
    "sales[\"Branch\"].value_counts()"
   ]
  },
  {
   "cell_type": "code",
   "execution_count": 20,
   "id": "1f0e0e01",
   "metadata": {
    "papermill": {
     "duration": 0.015854,
     "end_time": "2025-05-07T07:56:46.541874",
     "exception": false,
     "start_time": "2025-05-07T07:56:46.526020",
     "status": "completed"
    },
    "tags": []
   },
   "outputs": [
    {
     "data": {
      "text/plain": [
       "Customer type\n",
       "Normal     509\n",
       "Member     458\n",
       "-           27\n",
       "Memberr      1\n",
       "Name: count, dtype: int64"
      ]
     },
     "execution_count": 20,
     "metadata": {},
     "output_type": "execute_result"
    }
   ],
   "source": [
    "sales[\"Customer type\"].value_counts()"
   ]
  },
  {
   "cell_type": "code",
   "execution_count": 21,
   "id": "ddca49cc",
   "metadata": {
    "papermill": {
     "duration": 0.018454,
     "end_time": "2025-05-07T07:56:46.569583",
     "exception": false,
     "start_time": "2025-05-07T07:56:46.551129",
     "status": "completed"
    },
    "tags": []
   },
   "outputs": [],
   "source": [
    "sales.loc[sales[\"Customer type\"]==\"Memberr\"] = \"Member\""
   ]
  },
  {
   "cell_type": "code",
   "execution_count": 22,
   "id": "cbe69c6d",
   "metadata": {
    "papermill": {
     "duration": 0.016195,
     "end_time": "2025-05-07T07:56:46.594611",
     "exception": false,
     "start_time": "2025-05-07T07:56:46.578416",
     "status": "completed"
    },
    "tags": []
   },
   "outputs": [],
   "source": [
    "sales.loc[sales[\"Customer type\"]==\"-\"] = \"Member\" "
   ]
  },
  {
   "cell_type": "code",
   "execution_count": 23,
   "id": "6d8e061e",
   "metadata": {
    "papermill": {
     "duration": 0.016121,
     "end_time": "2025-05-07T07:56:46.620947",
     "exception": false,
     "start_time": "2025-05-07T07:56:46.604826",
     "status": "completed"
    },
    "tags": []
   },
   "outputs": [
    {
     "data": {
      "text/plain": [
       "Gender\n",
       "Male      505\n",
       "Female    462\n",
       "Member     28\n",
       "Name: count, dtype: int64"
      ]
     },
     "execution_count": 23,
     "metadata": {},
     "output_type": "execute_result"
    }
   ],
   "source": [
    "sales[\"Gender\"].value_counts()"
   ]
  },
  {
   "cell_type": "code",
   "execution_count": 24,
   "id": "0c7f82fc",
   "metadata": {
    "papermill": {
     "duration": 0.016028,
     "end_time": "2025-05-07T07:56:46.646515",
     "exception": false,
     "start_time": "2025-05-07T07:56:46.630487",
     "status": "completed"
    },
    "tags": []
   },
   "outputs": [],
   "source": [
    "sales.drop(index=sales.loc[sales[\"Gender\"]==\"Member\"].index,inplace=True)"
   ]
  },
  {
   "cell_type": "code",
   "execution_count": 25,
   "id": "75bc90f9",
   "metadata": {
    "papermill": {
     "duration": 0.015727,
     "end_time": "2025-05-07T07:56:46.671087",
     "exception": false,
     "start_time": "2025-05-07T07:56:46.655360",
     "status": "completed"
    },
    "tags": []
   },
   "outputs": [
    {
     "data": {
      "text/plain": [
       "Product line\n",
       "Fashion accessories       171\n",
       "Food and beverages        168\n",
       "Electronic accessories    164\n",
       "Sports and travel         162\n",
       "Home and lifestyle        156\n",
       "Health and beauty         146\n",
       "Name: count, dtype: int64"
      ]
     },
     "execution_count": 25,
     "metadata": {},
     "output_type": "execute_result"
    }
   ],
   "source": [
    "sales[\"Product line\"].value_counts()"
   ]
  },
  {
   "cell_type": "code",
   "execution_count": 26,
   "id": "7fdd2818",
   "metadata": {
    "papermill": {
     "duration": 0.018764,
     "end_time": "2025-05-07T07:56:46.700000",
     "exception": false,
     "start_time": "2025-05-07T07:56:46.681236",
     "status": "completed"
    },
    "tags": []
   },
   "outputs": [],
   "source": [
    "sales[\"Date\"]=pandas.to_datetime(sales[\"Date\"],format=\"mixed\").dt.date"
   ]
  },
  {
   "cell_type": "code",
   "execution_count": 27,
   "id": "3d6eeb17",
   "metadata": {
    "papermill": {
     "duration": 0.014701,
     "end_time": "2025-05-07T07:56:46.724245",
     "exception": false,
     "start_time": "2025-05-07T07:56:46.709544",
     "status": "completed"
    },
    "tags": []
   },
   "outputs": [
    {
     "name": "stdout",
     "output_type": "stream",
     "text": [
      "2019-01-01 2019-03-30\n"
     ]
    }
   ],
   "source": [
    "print(sales[\"Date\"].min(),sales[\"Date\"].max())"
   ]
  },
  {
   "cell_type": "code",
   "execution_count": 28,
   "id": "69c9e2bf",
   "metadata": {
    "papermill": {
     "duration": 0.016363,
     "end_time": "2025-05-07T07:56:46.749782",
     "exception": false,
     "start_time": "2025-05-07T07:56:46.733419",
     "status": "completed"
    },
    "tags": []
   },
   "outputs": [],
   "source": [
    "sales.loc[sales[\"Time\"]==\"8 - 30 PM\"] = \"08:30\""
   ]
  },
  {
   "cell_type": "code",
   "execution_count": 29,
   "id": "ef697367",
   "metadata": {
    "papermill": {
     "duration": 0.016253,
     "end_time": "2025-05-07T07:56:46.774978",
     "exception": false,
     "start_time": "2025-05-07T07:56:46.758725",
     "status": "completed"
    },
    "tags": []
   },
   "outputs": [
    {
     "data": {
      "text/plain": [
       "0       13:08\n",
       "1       10:29\n",
       "2       13:23\n",
       "3       08:30\n",
       "4       10:37\n",
       "        ...  \n",
       "1001    14:30\n",
       "1002    11:32\n",
       "1003    10:41\n",
       "1004    12:44\n",
       "1005    20:07\n",
       "Name: Time, Length: 967, dtype: object"
      ]
     },
     "execution_count": 29,
     "metadata": {},
     "output_type": "execute_result"
    }
   ],
   "source": [
    "sales[\"Time\"]"
   ]
  },
  {
   "cell_type": "code",
   "execution_count": 30,
   "id": "737175be",
   "metadata": {
    "papermill": {
     "duration": 0.016784,
     "end_time": "2025-05-07T07:56:46.800586",
     "exception": false,
     "start_time": "2025-05-07T07:56:46.783802",
     "status": "completed"
    },
    "tags": []
   },
   "outputs": [],
   "source": [
    "sales.drop(index=sales.loc[sales[\"Payment\"]==\"08:30\"].index,inplace=True)"
   ]
  },
  {
   "cell_type": "code",
   "execution_count": 31,
   "id": "ec200c97",
   "metadata": {
    "papermill": {
     "duration": 0.017803,
     "end_time": "2025-05-07T07:56:46.828073",
     "exception": false,
     "start_time": "2025-05-07T07:56:46.810270",
     "status": "completed"
    },
    "tags": []
   },
   "outputs": [
    {
     "data": {
      "text/plain": [
       "Payment\n",
       "Ewallet        334\n",
       "Cash           329\n",
       "Credit card    303\n",
       "Name: count, dtype: int64"
      ]
     },
     "execution_count": 31,
     "metadata": {},
     "output_type": "execute_result"
    }
   ],
   "source": [
    "sales[\"Payment\"].value_counts()"
   ]
  },
  {
   "cell_type": "code",
   "execution_count": 32,
   "id": "a7e68a3b",
   "metadata": {
    "papermill": {
     "duration": 0.017047,
     "end_time": "2025-05-07T07:56:46.856243",
     "exception": false,
     "start_time": "2025-05-07T07:56:46.839196",
     "status": "completed"
    },
    "tags": []
   },
   "outputs": [],
   "source": [
    "sales.loc[sales[\"Rating\"]==97.0,\"Rating\"]=sales[\"Rating\"].mean()"
   ]
  },
  {
   "cell_type": "code",
   "execution_count": 33,
   "id": "cd1e4069",
   "metadata": {
    "papermill": {
     "duration": 0.01844,
     "end_time": "2025-05-07T07:56:46.884922",
     "exception": false,
     "start_time": "2025-05-07T07:56:46.866482",
     "status": "completed"
    },
    "tags": []
   },
   "outputs": [
    {
     "data": {
      "text/plain": [
       "Rating\n",
       "6.000000     26\n",
       "6.600000     23\n",
       "4.200000     22\n",
       "5.000000     21\n",
       "8.000000     21\n",
       "             ..\n",
       "8.100000     11\n",
       "4.000000     10\n",
       "4.600000      8\n",
       "10.000000     3\n",
       "7.052899      1\n",
       "Name: count, Length: 62, dtype: int64"
      ]
     },
     "execution_count": 33,
     "metadata": {},
     "output_type": "execute_result"
    }
   ],
   "source": [
    "sales[\"Rating\"].value_counts()"
   ]
  },
  {
   "cell_type": "code",
   "execution_count": 34,
   "id": "049adc5c",
   "metadata": {
    "papermill": {
     "duration": 0.015914,
     "end_time": "2025-05-07T07:56:46.910302",
     "exception": false,
     "start_time": "2025-05-07T07:56:46.894388",
     "status": "completed"
    },
    "tags": []
   },
   "outputs": [
    {
     "name": "stdout",
     "output_type": "stream",
     "text": [
      "4.0 10.0\n"
     ]
    }
   ],
   "source": [
    "print(sales[\"Rating\"].min(),sales[\"Rating\"].max())"
   ]
  },
  {
   "cell_type": "code",
   "execution_count": 35,
   "id": "b2a3e74c",
   "metadata": {
    "papermill": {
     "duration": 0.015114,
     "end_time": "2025-05-07T07:56:46.936020",
     "exception": false,
     "start_time": "2025-05-07T07:56:46.920906",
     "status": "completed"
    },
    "tags": []
   },
   "outputs": [
    {
     "data": {
      "text/plain": [
       "Index(['Invoice ID', 'Branch', 'Yangon', 'Naypyitaw', 'Mandalay',\n",
       "       'Customer type', 'Gender', 'Product line', 'Unit price', 'Quantity',\n",
       "       'Tax 5%', 'Total', 'Date', 'Time', 'Payment', 'Rating'],\n",
       "      dtype='object')"
      ]
     },
     "execution_count": 35,
     "metadata": {},
     "output_type": "execute_result"
    }
   ],
   "source": [
    "sales.columns"
   ]
  },
  {
   "cell_type": "code",
   "execution_count": 36,
   "id": "eb58a357",
   "metadata": {
    "papermill": {
     "duration": 0.020424,
     "end_time": "2025-05-07T07:56:46.965962",
     "exception": false,
     "start_time": "2025-05-07T07:56:46.945538",
     "status": "completed"
    },
    "tags": []
   },
   "outputs": [
    {
     "name": "stdout",
     "output_type": "stream",
     "text": [
      "Q1:126.29925 - Q3:470.44725 - IQR:344.148 - U:986.6692499999999 - L:-389.92274999999995 - Min:10.6785 - Max:1042.65\n"
     ]
    }
   ],
   "source": [
    "total_Q3 = sales[\"Total\"].quantile(0.75)\n",
    "total_Q1 = sales[\"Total\"].quantile(0.25)\n",
    "total_IQR= total_Q3-total_Q1\n",
    "total_U  = total_Q3 + (1.5*total_IQR) \n",
    "total_L  = total_Q1 - (1.5*total_IQR)\n",
    "total_Min = sales[\"Total\"].min()\n",
    "total_Max = sales[\"Total\"].max()\n",
    "print(\"Q1:{a} - Q3:{b} - IQR:{c} - U:{d} - L:{e} - Min:{f} - Max:{g}\".format(a=total_Q1,b=total_Q3,c=total_IQR,d=total_U,e=total_L,f=total_Min,g=total_Max))"
   ]
  },
  {
   "cell_type": "code",
   "execution_count": 37,
   "id": "5f3ce551",
   "metadata": {
    "papermill": {
     "duration": 0.019163,
     "end_time": "2025-05-07T07:56:46.995963",
     "exception": false,
     "start_time": "2025-05-07T07:56:46.976800",
     "status": "completed"
    },
    "tags": []
   },
   "outputs": [
    {
     "name": "stdout",
     "output_type": "stream",
     "text": [
      "Q1:6.01425 - Q3:22.402250000000002 - IQR:16.388 - U:46.98425 - L:-18.56775 - Min:0.5085 - Max:49.65\n"
     ]
    }
   ],
   "source": [
    "tax_Q3 = sales[\"Tax 5%\"].quantile(0.75)\n",
    "tax_Q1 = sales[\"Tax 5%\"].quantile(0.25)\n",
    "tax_IQR= tax_Q3-tax_Q1\n",
    "tax_U  = tax_Q3 + (1.5*tax_IQR) \n",
    "tax_L  = tax_Q1 - (1.5*tax_IQR)\n",
    "tax_Min = sales[\"Tax 5%\"].min()\n",
    "tax_Max = sales[\"Tax 5%\"].max()\n",
    "print(\"Q1:{a} - Q3:{b} - IQR:{c} - U:{d} - L:{e} - Min:{f} - Max:{g}\".format(a=tax_Q1,b=tax_Q3,c=tax_IQR,d=tax_U,e=tax_L,f=tax_Min,g=tax_Max))"
   ]
  },
  {
   "cell_type": "code",
   "execution_count": 38,
   "id": "ae94e0b3",
   "metadata": {
    "papermill": {
     "duration": 0.021589,
     "end_time": "2025-05-07T07:56:47.028078",
     "exception": false,
     "start_time": "2025-05-07T07:56:47.006489",
     "status": "completed"
    },
    "tags": []
   },
   "outputs": [],
   "source": [
    "sales.drop(index=sales[((sales[\"Total\"]>total_U)|(sales[\"Total\"]<total_L))&((sales[\"Tax 5%\"]>tax_U)|(sales[\"Tax 5%\"]<tax_L))].index,inplace=True)"
   ]
  },
  {
   "cell_type": "code",
   "execution_count": 39,
   "id": "33ed8470",
   "metadata": {
    "papermill": {
     "duration": 0.025026,
     "end_time": "2025-05-07T07:56:47.063219",
     "exception": false,
     "start_time": "2025-05-07T07:56:47.038193",
     "status": "completed"
    },
    "scrolled": true,
    "tags": []
   },
   "outputs": [
    {
     "data": {
      "text/html": [
       "<div>\n",
       "<style scoped>\n",
       "    .dataframe tbody tr th:only-of-type {\n",
       "        vertical-align: middle;\n",
       "    }\n",
       "\n",
       "    .dataframe tbody tr th {\n",
       "        vertical-align: top;\n",
       "    }\n",
       "\n",
       "    .dataframe thead th {\n",
       "        text-align: right;\n",
       "    }\n",
       "</style>\n",
       "<table border=\"1\" class=\"dataframe\">\n",
       "  <thead>\n",
       "    <tr style=\"text-align: right;\">\n",
       "      <th></th>\n",
       "      <th>Invoice ID</th>\n",
       "      <th>Branch</th>\n",
       "      <th>Yangon</th>\n",
       "      <th>Naypyitaw</th>\n",
       "      <th>Mandalay</th>\n",
       "      <th>Customer type</th>\n",
       "      <th>Gender</th>\n",
       "      <th>Product line</th>\n",
       "      <th>Unit price</th>\n",
       "      <th>Quantity</th>\n",
       "      <th>Tax 5%</th>\n",
       "      <th>Total</th>\n",
       "      <th>Date</th>\n",
       "      <th>Time</th>\n",
       "      <th>Payment</th>\n",
       "      <th>Rating</th>\n",
       "    </tr>\n",
       "  </thead>\n",
       "  <tbody>\n",
       "    <tr>\n",
       "      <th>0</th>\n",
       "      <td>750-67-8428</td>\n",
       "      <td>A</td>\n",
       "      <td>1</td>\n",
       "      <td>0</td>\n",
       "      <td>0</td>\n",
       "      <td>Normal</td>\n",
       "      <td>Male</td>\n",
       "      <td>Health and beauty</td>\n",
       "      <td>74.69</td>\n",
       "      <td>7</td>\n",
       "      <td>26.1415</td>\n",
       "      <td>548.9715</td>\n",
       "      <td>2019-01-05</td>\n",
       "      <td>13:08</td>\n",
       "      <td>Ewallet</td>\n",
       "      <td>9.1</td>\n",
       "    </tr>\n",
       "    <tr>\n",
       "      <th>1</th>\n",
       "      <td>226-31-3081</td>\n",
       "      <td>C</td>\n",
       "      <td>0</td>\n",
       "      <td>1</td>\n",
       "      <td>0</td>\n",
       "      <td>Normal</td>\n",
       "      <td>Male</td>\n",
       "      <td>Electronic accessories</td>\n",
       "      <td>15.28</td>\n",
       "      <td>5</td>\n",
       "      <td>3.82</td>\n",
       "      <td>80.22</td>\n",
       "      <td>2019-03-08</td>\n",
       "      <td>10:29</td>\n",
       "      <td>Cash</td>\n",
       "      <td>9.6</td>\n",
       "    </tr>\n",
       "    <tr>\n",
       "      <th>2</th>\n",
       "      <td>631-41-3108</td>\n",
       "      <td>A</td>\n",
       "      <td>1</td>\n",
       "      <td>0</td>\n",
       "      <td>0</td>\n",
       "      <td>Normal</td>\n",
       "      <td>Male</td>\n",
       "      <td>Home and lifestyle</td>\n",
       "      <td>46.33</td>\n",
       "      <td>7</td>\n",
       "      <td>16.2155</td>\n",
       "      <td>340.5255</td>\n",
       "      <td>2019-03-03</td>\n",
       "      <td>13:23</td>\n",
       "      <td>Credit card</td>\n",
       "      <td>7.4</td>\n",
       "    </tr>\n",
       "    <tr>\n",
       "      <th>4</th>\n",
       "      <td>373-73-7910</td>\n",
       "      <td>A</td>\n",
       "      <td>1</td>\n",
       "      <td>0</td>\n",
       "      <td>0</td>\n",
       "      <td>Normal</td>\n",
       "      <td>Male</td>\n",
       "      <td>Sports and travel</td>\n",
       "      <td>86.31</td>\n",
       "      <td>7</td>\n",
       "      <td>30.2085</td>\n",
       "      <td>634.3785</td>\n",
       "      <td>2019-02-08</td>\n",
       "      <td>10:37</td>\n",
       "      <td>Ewallet</td>\n",
       "      <td>5.3</td>\n",
       "    </tr>\n",
       "    <tr>\n",
       "      <th>5</th>\n",
       "      <td>699-14-3026</td>\n",
       "      <td>C</td>\n",
       "      <td>0</td>\n",
       "      <td>1</td>\n",
       "      <td>0</td>\n",
       "      <td>Normal</td>\n",
       "      <td>Male</td>\n",
       "      <td>Electronic accessories</td>\n",
       "      <td>85.39</td>\n",
       "      <td>7</td>\n",
       "      <td>29.8865</td>\n",
       "      <td>627.6165</td>\n",
       "      <td>2019-03-25</td>\n",
       "      <td>18:30</td>\n",
       "      <td>Ewallet</td>\n",
       "      <td>4.1</td>\n",
       "    </tr>\n",
       "    <tr>\n",
       "      <th>...</th>\n",
       "      <td>...</td>\n",
       "      <td>...</td>\n",
       "      <td>...</td>\n",
       "      <td>...</td>\n",
       "      <td>...</td>\n",
       "      <td>...</td>\n",
       "      <td>...</td>\n",
       "      <td>...</td>\n",
       "      <td>...</td>\n",
       "      <td>...</td>\n",
       "      <td>...</td>\n",
       "      <td>...</td>\n",
       "      <td>...</td>\n",
       "      <td>...</td>\n",
       "      <td>...</td>\n",
       "      <td>...</td>\n",
       "    </tr>\n",
       "    <tr>\n",
       "      <th>1001</th>\n",
       "      <td>861-77-0145</td>\n",
       "      <td>C</td>\n",
       "      <td>0</td>\n",
       "      <td>1</td>\n",
       "      <td>0</td>\n",
       "      <td>Member</td>\n",
       "      <td>Male</td>\n",
       "      <td>Electronic accessories</td>\n",
       "      <td>81.97</td>\n",
       "      <td>10</td>\n",
       "      <td>40.985</td>\n",
       "      <td>860.685</td>\n",
       "      <td>2019-03-03</td>\n",
       "      <td>14:30</td>\n",
       "      <td>Cash</td>\n",
       "      <td>9.2</td>\n",
       "    </tr>\n",
       "    <tr>\n",
       "      <th>1002</th>\n",
       "      <td>479-26-8945</td>\n",
       "      <td>B</td>\n",
       "      <td>0</td>\n",
       "      <td>0</td>\n",
       "      <td>1</td>\n",
       "      <td>Member</td>\n",
       "      <td>Female</td>\n",
       "      <td>Sports and travel</td>\n",
       "      <td>16.49</td>\n",
       "      <td>2</td>\n",
       "      <td>1.649</td>\n",
       "      <td>34.629</td>\n",
       "      <td>2019-02-05</td>\n",
       "      <td>11:32</td>\n",
       "      <td>Ewallet</td>\n",
       "      <td>4.6</td>\n",
       "    </tr>\n",
       "    <tr>\n",
       "      <th>1003</th>\n",
       "      <td>210-67-5886</td>\n",
       "      <td>C</td>\n",
       "      <td>0</td>\n",
       "      <td>1</td>\n",
       "      <td>0</td>\n",
       "      <td>Member</td>\n",
       "      <td>Female</td>\n",
       "      <td>Health and beauty</td>\n",
       "      <td>98.21</td>\n",
       "      <td>3</td>\n",
       "      <td>14.7315</td>\n",
       "      <td>309.3615</td>\n",
       "      <td>2019-02-05</td>\n",
       "      <td>10:41</td>\n",
       "      <td>Credit card</td>\n",
       "      <td>7.8</td>\n",
       "    </tr>\n",
       "    <tr>\n",
       "      <th>1004</th>\n",
       "      <td>227-78-1148</td>\n",
       "      <td>B</td>\n",
       "      <td>0</td>\n",
       "      <td>0</td>\n",
       "      <td>1</td>\n",
       "      <td>Normal</td>\n",
       "      <td>Female</td>\n",
       "      <td>Fashion accessories</td>\n",
       "      <td>72.84</td>\n",
       "      <td>7</td>\n",
       "      <td>25.494</td>\n",
       "      <td>535.374</td>\n",
       "      <td>2019-02-15</td>\n",
       "      <td>12:44</td>\n",
       "      <td>Cash</td>\n",
       "      <td>8.4</td>\n",
       "    </tr>\n",
       "    <tr>\n",
       "      <th>1005</th>\n",
       "      <td>645-44-1170</td>\n",
       "      <td>A</td>\n",
       "      <td>1</td>\n",
       "      <td>0</td>\n",
       "      <td>0</td>\n",
       "      <td>Member</td>\n",
       "      <td>Male</td>\n",
       "      <td>Home and lifestyle</td>\n",
       "      <td>58.07</td>\n",
       "      <td>9</td>\n",
       "      <td>26.1315</td>\n",
       "      <td>548.7615</td>\n",
       "      <td>2019-01-19</td>\n",
       "      <td>20:07</td>\n",
       "      <td>Ewallet</td>\n",
       "      <td>4.3</td>\n",
       "    </tr>\n",
       "  </tbody>\n",
       "</table>\n",
       "<p>957 rows × 16 columns</p>\n",
       "</div>"
      ],
      "text/plain": [
       "       Invoice ID Branch Yangon Naypyitaw Mandalay Customer type  Gender  \\\n",
       "0     750-67-8428      A      1         0        0        Normal    Male   \n",
       "1     226-31-3081      C      0         1        0        Normal    Male   \n",
       "2     631-41-3108      A      1         0        0        Normal    Male   \n",
       "4     373-73-7910      A      1         0        0        Normal    Male   \n",
       "5     699-14-3026      C      0         1        0        Normal    Male   \n",
       "...           ...    ...    ...       ...      ...           ...     ...   \n",
       "1001  861-77-0145      C      0         1        0        Member    Male   \n",
       "1002  479-26-8945      B      0         0        1        Member  Female   \n",
       "1003  210-67-5886      C      0         1        0        Member  Female   \n",
       "1004  227-78-1148      B      0         0        1        Normal  Female   \n",
       "1005  645-44-1170      A      1         0        0        Member    Male   \n",
       "\n",
       "                Product line Unit price Quantity   Tax 5%     Total  \\\n",
       "0          Health and beauty      74.69        7  26.1415  548.9715   \n",
       "1     Electronic accessories      15.28        5     3.82     80.22   \n",
       "2         Home and lifestyle      46.33        7  16.2155  340.5255   \n",
       "4          Sports and travel      86.31        7  30.2085  634.3785   \n",
       "5     Electronic accessories      85.39        7  29.8865  627.6165   \n",
       "...                      ...        ...      ...      ...       ...   \n",
       "1001  Electronic accessories      81.97       10   40.985   860.685   \n",
       "1002       Sports and travel      16.49        2    1.649    34.629   \n",
       "1003       Health and beauty      98.21        3  14.7315  309.3615   \n",
       "1004     Fashion accessories      72.84        7   25.494   535.374   \n",
       "1005      Home and lifestyle      58.07        9  26.1315  548.7615   \n",
       "\n",
       "            Date   Time      Payment Rating  \n",
       "0     2019-01-05  13:08      Ewallet    9.1  \n",
       "1     2019-03-08  10:29         Cash    9.6  \n",
       "2     2019-03-03  13:23  Credit card    7.4  \n",
       "4     2019-02-08  10:37      Ewallet    5.3  \n",
       "5     2019-03-25  18:30      Ewallet    4.1  \n",
       "...          ...    ...          ...    ...  \n",
       "1001  2019-03-03  14:30         Cash    9.2  \n",
       "1002  2019-02-05  11:32      Ewallet    4.6  \n",
       "1003  2019-02-05  10:41  Credit card    7.8  \n",
       "1004  2019-02-15  12:44         Cash    8.4  \n",
       "1005  2019-01-19  20:07      Ewallet    4.3  \n",
       "\n",
       "[957 rows x 16 columns]"
      ]
     },
     "execution_count": 39,
     "metadata": {},
     "output_type": "execute_result"
    }
   ],
   "source": [
    "sales"
   ]
  },
  {
   "cell_type": "code",
   "execution_count": 40,
   "id": "2caeaec9",
   "metadata": {
    "papermill": {
     "duration": 0.400444,
     "end_time": "2025-05-07T07:56:47.474085",
     "exception": false,
     "start_time": "2025-05-07T07:56:47.073641",
     "status": "completed"
    },
    "tags": []
   },
   "outputs": [
    {
     "data": {
      "image/png": "[encoded data removed]",
      "text/plain": [
       "<Figure size 900x400 with 2 Axes>"
      ]
     },
     "metadata": {},
     "output_type": "display_data"
    }
   ],
   "source": [
    "fig, axis = matplotlib.pyplot.subplots(1, 2, figsize=(9, 4))\n",
    "total_violin = axis[0].violinplot(\n",
    "    numpy.array(sales[\"Total\"].astype(int)),\n",
    "    showmeans=True, showextrema=True, showmedians=True\n",
    ")\n",
    "for pc in total_violin['bodies']:\n",
    "    pc.set_facecolor(PALETTE[6])  \n",
    "    pc.set_edgecolor(PALETTE[0])   \n",
    "    pc.set_alpha(0.8)\n",
    "total_violin['cmedians'].set_color(PALETTE[2])  \n",
    "total_violin['cmeans'].set_color(PALETTE[4])    \n",
    "\n",
    "tax_violin = axis[1].violinplot(\n",
    "    numpy.array(sales[\"Tax 5%\"].astype(int)),\n",
    "    showmeans=True, showextrema=True, showmedians=True\n",
    ")\n",
    "for pc in tax_violin['bodies']:\n",
    "    pc.set_facecolor(PALETTE[6])  \n",
    "    pc.set_edgecolor(PALETTE[0])  \n",
    "    pc.set_alpha(0.8)\n",
    "tax_violin['cmedians'].set_color(PALETTE[2])\n",
    "tax_violin['cmeans'].set_color(PALETTE[4])\n",
    "axis[0].set_title(\"Total Amount Distribution\", fontsize=10)\n",
    "axis[1].set_title(\"Tax 5% Distribution\", fontsize=10)\n",
    "\n",
    "matplotlib.pyplot.tight_layout()\n",
    "matplotlib.pyplot.show()"
   ]
  },
  {
   "cell_type": "code",
   "execution_count": 41,
   "id": "f9a6227a",
   "metadata": {
    "papermill": {
     "duration": 1.242139,
     "end_time": "2025-05-07T07:56:48.727374",
     "exception": false,
     "start_time": "2025-05-07T07:56:47.485235",
     "status": "completed"
    },
    "tags": []
   },
   "outputs": [
    {
     "data": {
      "image/png": "[encoded data removed]",
      "text/plain": [
       "<Figure size 2500x1000 with 10 Axes>"
      ]
     },
     "metadata": {},
     "output_type": "display_data"
    }
   ],
   "source": [
    "fig, axes = matplotlib.pyplot.subplots(2, 5, figsize=(25, 10))\n",
    "axes = axes.flatten()\n",
    "\n",
    "# Branch pie chart\n",
    "axes[0].pie(\n",
    "    sales[\"Branch\"].value_counts().values,\n",
    "    labels=sales[\"Branch\"].value_counts().index,\n",
    "    colors=PALETTE[1:4],\n",
    "    autopct='%1.1f%%',\n",
    "    pctdistance=1.25,\n",
    "    labeldistance=0.6,\n",
    "    textprops={'size': 'smaller', 'color': 'white'},\n",
    "    rotatelabels=False\n",
    ")\n",
    "\n",
    "# Customer type pie chart\n",
    "axes[1].pie(\n",
    "    sales[\"Customer type\"].value_counts().values,\n",
    "    labels=sales[\"Customer type\"].value_counts().index,\n",
    "    colors=[PALETTE[5], PALETTE[6]],\n",
    "    autopct='%1.1f%%',\n",
    "    pctdistance=1.25,\n",
    "    labeldistance=0.6,\n",
    "    textprops={'size': 'smaller', 'color': 'white'},\n",
    "    rotatelabels=False\n",
    ")\n",
    "\n",
    "# Gender pie chart\n",
    "axes[2].pie(\n",
    "    sales[\"Gender\"].value_counts().values,\n",
    "    labels=sales[\"Gender\"].value_counts().index,\n",
    "    colors=[PALETTE[3], PALETTE[6]],\n",
    "    autopct='%1.1f%%',\n",
    "    pctdistance=1.25,\n",
    "    labeldistance=0.6,\n",
    "    textprops={'size': 'smaller', 'color': 'white'},\n",
    "    rotatelabels=False\n",
    ")\n",
    "\n",
    "# Product line bar plot\n",
    "product_counts = sales[\"Product line\"].value_counts()\n",
    "axes[3].bar(\n",
    "    x=product_counts.index,\n",
    "    height=product_counts.values,\n",
    "    color=PALETTE[4]\n",
    ")\n",
    "axes[3].set_xticks([])\n",
    "for i, value in enumerate(product_counts.values):\n",
    "    axes[3].text(i, value / 2, product_counts.index[i], ha='center', va='center', rotation=90)\n",
    "\n",
    "# Unit price histogram\n",
    "axes[4].hist(\n",
    "    sales[\"Unit price\"],\n",
    "    bins=40,\n",
    "    color=PALETTE[7]\n",
    ")\n",
    "\n",
    "# Quantity histogram\n",
    "axes[5].hist(\n",
    "    sales[\"Quantity\"],\n",
    "    bins=10,\n",
    "    color=PALETTE[6]\n",
    ")\n",
    "\n",
    "# Total violin plot\n",
    "total_violin = axes[6].violinplot(\n",
    "    numpy.array(sales[\"Total\"].astype(int)),\n",
    "    showmeans=True, showextrema=True, showmedians=True\n",
    ")\n",
    "\n",
    "for pc in total_violin['bodies']:\n",
    "    pc.set_facecolor(PALETTE[6])  \n",
    "    pc.set_edgecolor(PALETTE[0])  \n",
    "    pc.set_alpha(0.8)             \n",
    "total_violin['cmeans'].set_color(PALETTE[4])\n",
    "total_violin['cmedians'].set_color(PALETTE[2])\n",
    "\n",
    "# Tax violin plot\n",
    "tax_violin = axes[7].violinplot(\n",
    "    numpy.array(sales[\"Tax 5%\"].astype(int)),\n",
    "    showmeans=True, showextrema=True, showmedians=True\n",
    ")\n",
    "for pc in tax_violin['bodies']:\n",
    "    pc.set_facecolor(PALETTE[6])  \n",
    "    pc.set_edgecolor(PALETTE[0])  \n",
    "    pc.set_alpha(0.8)             \n",
    "tax_violin['cmeans'].set_color(PALETTE[4])\n",
    "tax_violin['cmedians'].set_color(PALETTE[2])\n",
    "\n",
    "# Payment pie chart\n",
    "axes[8].pie(\n",
    "    sales[\"Payment\"].value_counts().values,\n",
    "    labels=sales[\"Payment\"].value_counts().index,\n",
    "    colors=[PALETTE[2], PALETTE[5], PALETTE[6]],\n",
    "    autopct='%1.1f%%',\n",
    "    pctdistance=1.25,\n",
    "    labeldistance=0.6,\n",
    "    textprops={'size': 'smaller', 'color': 'white'},\n",
    "    rotatelabels=False\n",
    ")\n",
    "\n",
    "# Rating histogram\n",
    "axes[9].hist(\n",
    "    sales[\"Rating\"],\n",
    "    bins=100,\n",
    "    color=PALETTE[5]\n",
    ")\n",
    "\n",
    "matplotlib.pyplot.tight_layout()\n",
    "matplotlib.pyplot.show()\n"
   ]
  },
  {
   "cell_type": "code",
   "execution_count": 42,
   "id": "1f1470dc",
   "metadata": {
    "papermill": {
     "duration": 0.214711,
     "end_time": "2025-05-07T07:56:48.955546",
     "exception": false,
     "start_time": "2025-05-07T07:56:48.740835",
     "status": "completed"
    },
    "tags": []
   },
   "outputs": [
    {
     "data": {
      "image/png": "[encoded data removed]",
      "text/plain": [
       "<Figure size 800x600 with 1 Axes>"
      ]
     },
     "metadata": {},
     "output_type": "display_data"
    }
   ],
   "source": [
    "Branch2CustomerType=pandas.pivot_table(data=sales,index=\"Branch\",columns=\"Customer type\",aggfunc=\"size\",fill_value=0).reset_index()\n",
    "\n",
    "fig, ax = matplotlib.pyplot.subplots(figsize=(8, 6))\n",
    "bar_width = 0.35\n",
    "x = range(len(Branch2CustomerType))\n",
    "ax.bar(\n",
    "    [i - bar_width/2 for i in x],\n",
    "    Branch2CustomerType['Member'],\n",
    "    width=bar_width,\n",
    "    color='#9D4EDD',\n",
    "    label='Member'\n",
    ")\n",
    "ax.bar(\n",
    "    [i + bar_width/2 for i in x],\n",
    "    Branch2CustomerType['Normal'],\n",
    "    width=bar_width,\n",
    "    color='#C77DFF',\n",
    "    label='Normal'\n",
    ")\n",
    "ax.set_xticks(x)\n",
    "ax.set_xticklabels(Branch2CustomerType['Branch'])\n",
    "ax.set_xlabel('Branch')\n",
    "ax.set_ylabel('Number of Customers')\n",
    "ax.set_title('Customer Type Distribution per Branch')\n",
    "ax.legend()\n",
    "\n",
    "matplotlib.pyplot.grid(axis='y', linestyle='--', alpha=0.5)\n",
    "matplotlib.pyplot.tight_layout()\n",
    "matplotlib.pyplot.show()"
   ]
  },
  {
   "cell_type": "code",
   "execution_count": 43,
   "id": "47a56b92",
   "metadata": {
    "papermill": {
     "duration": 0.210385,
     "end_time": "2025-05-07T07:56:49.181452",
     "exception": false,
     "start_time": "2025-05-07T07:56:48.971067",
     "status": "completed"
    },
    "tags": []
   },
   "outputs": [
    {
     "data": {
      "image/png": "[encoded data removed]",
      "text/plain": [
       "<Figure size 700x500 with 1 Axes>"
      ]
     },
     "metadata": {},
     "output_type": "display_data"
    }
   ],
   "source": [
    "Branch2CustomerGender=pandas.pivot_table(data=sales,index=\"Branch\",columns=\"Gender\",aggfunc=\"size\",fill_value=0).reset_index()\n",
    "\n",
    "fig, ax = matplotlib.pyplot.subplots(figsize=(7, 5))\n",
    "\n",
    "ax.bar(\n",
    "    Branch2CustomerGender[\"Branch\"],\n",
    "    Branch2CustomerGender[\"Female\"],\n",
    "    label=\"Female\",\n",
    "    color=PALETTE[6]\n",
    ")\n",
    "ax.bar(\n",
    "    Branch2CustomerGender[\"Branch\"],\n",
    "    Branch2CustomerGender[\"Male\"],\n",
    "    bottom=Branch2CustomerGender[\"Female\"],\n",
    "    label=\"Male\",\n",
    "    color=PALETTE[3]\n",
    ")\n",
    "ax.set_title(\"Customer Gender Distribution by Branch\", fontsize=12)\n",
    "ax.set_xlabel(\"Branch\")\n",
    "ax.set_ylabel(\"Number of Customers\")\n",
    "ax.legend(title=\"Gender\")\n",
    "\n",
    "for i, row in Branch2CustomerGender.iterrows():\n",
    "    ax.text(i, row[\"Female\"] / 2, str(row[\"Female\"]), ha=\"center\", va=\"center\", fontsize=8)\n",
    "    ax.text(i, row[\"Female\"] + row[\"Male\"] / 2, str(row[\"Male\"]), ha=\"center\", va=\"center\", fontsize=8)\n",
    "\n",
    "matplotlib.pyplot.tight_layout()\n",
    "matplotlib.pyplot.show()"
   ]
  },
  {
   "cell_type": "code",
   "execution_count": 44,
   "id": "c559e00c",
   "metadata": {
    "papermill": {
     "duration": 0.266124,
     "end_time": "2025-05-07T07:56:49.463663",
     "exception": false,
     "start_time": "2025-05-07T07:56:49.197539",
     "status": "completed"
    },
    "scrolled": true,
    "tags": []
   },
   "outputs": [
    {
     "data": {
      "image/png": "[encoded data removed]",
      "text/plain": [
       "<Figure size 1600x600 with 1 Axes>"
      ]
     },
     "metadata": {},
     "output_type": "display_data"
    }
   ],
   "source": [
    "Branch2ProductLine=pandas.pivot_table(data=sales,index=\"Branch\",columns=\"Product line\",aggfunc=\"size\",fill_value=0).reset_index()\n",
    "fig, ax = matplotlib.pyplot.subplots(figsize=(16,6))\n",
    "branches = Branch2ProductLine[\"Branch\"]\n",
    "product_lines = Branch2ProductLine.columns[1:]\n",
    "bar_width = 0.12\n",
    "x = numpy.arange(len(branches))\n",
    "for i, product in enumerate(product_lines):\n",
    "    ax.bar(\n",
    "        x + i * bar_width,\n",
    "        Branch2ProductLine[product],\n",
    "        width=bar_width,\n",
    "        label=product,\n",
    "        color=PALETTE[i % len(PALETTE)]\n",
    "    )\n",
    "\n",
    "ax.set_xticks(x + (len(product_lines) / 2 - 0.5) * bar_width)\n",
    "ax.set_xticklabels(branches)\n",
    "ax.set_xlabel(\"Branch\")\n",
    "ax.set_ylabel(\"Number of Products Sold\")\n",
    "ax.set_title(\"Product Line Distribution by Branch\", fontsize=13)\n",
    "ax.legend(title=\"Product Line\", fontsize=8, title_fontsize=9, loc=\"lower right\")\n",
    "matplotlib.pyplot.tight_layout()\n",
    "matplotlib.pyplot.show()"
   ]
  },
  {
   "cell_type": "code",
   "execution_count": 45,
   "id": "c1e91705",
   "metadata": {
    "papermill": {
     "duration": 0.228331,
     "end_time": "2025-05-07T07:56:49.708668",
     "exception": false,
     "start_time": "2025-05-07T07:56:49.480337",
     "status": "completed"
    },
    "scrolled": true,
    "tags": []
   },
   "outputs": [
    {
     "data": {
      "image/png": "[encoded data removed]",
      "text/plain": [
       "<Figure size 1000x600 with 1 Axes>"
      ]
     },
     "metadata": {},
     "output_type": "display_data"
    }
   ],
   "source": [
    "Branch2PaymentMethod=pandas.pivot_table(data=sales,index=\"Branch\",columns=\"Payment\",aggfunc=\"size\",fill_value=0).reset_index()\n",
    "PALETTEB2P = {\n",
    "    \"Cash\": \"#5A189A\",         # Mid purple\n",
    "    \"Credit card\": \"#7B2CBF\",  # Lighter purple\n",
    "    \"Ewallet\": \"#C77DFF\"       # Lightest purple\n",
    "}\n",
    "\n",
    "fig, ax = matplotlib.pyplot.subplots(figsize=(10,6))\n",
    "branches = Branch2PaymentMethod[\"Branch\"]\n",
    "payment_methods = [\"Cash\", \"Credit card\", \"Ewallet\"]\n",
    "x = numpy.arange(len(branches))\n",
    "bar_width = 0.25\n",
    "for i, method in enumerate(payment_methods):\n",
    "    ax.bar(\n",
    "        x + i * bar_width,\n",
    "        Branch2PaymentMethod[method],\n",
    "        width=bar_width,\n",
    "        label=method,\n",
    "        color=PALETTEB2P[method]\n",
    "    )\n",
    "ax.set_xticks(x + bar_width)\n",
    "ax.set_xticklabels(branches)\n",
    "ax.set_xlabel(\"Branch\")\n",
    "ax.set_ylabel(\"Number of Payments\")\n",
    "ax.set_title(\"Payment Method Usage by Branch\", fontsize=13)\n",
    "for i, method in enumerate(payment_methods):\n",
    "    for j, val in enumerate(Branch2PaymentMethod[method]):\n",
    "        ax.text(j + i * bar_width, val + 2, str(val), ha='center', va='bottom', fontsize=8)\n",
    "\n",
    "ax.legend(title=\"Payment Method\", fontsize=8, title_fontsize=9)\n",
    "matplotlib.pyplot.tight_layout()\n",
    "matplotlib.pyplot.show()"
   ]
  },
  {
   "cell_type": "code",
   "execution_count": 46,
   "id": "f5404b48",
   "metadata": {
    "papermill": {
     "duration": 0.026185,
     "end_time": "2025-05-07T07:56:49.750170",
     "exception": false,
     "start_time": "2025-05-07T07:56:49.723985",
     "status": "completed"
    },
    "scrolled": true,
    "tags": []
   },
   "outputs": [
    {
     "data": {
      "text/html": [
       "<div>\n",
       "<style scoped>\n",
       "    .dataframe tbody tr th:only-of-type {\n",
       "        vertical-align: middle;\n",
       "    }\n",
       "\n",
       "    .dataframe tbody tr th {\n",
       "        vertical-align: top;\n",
       "    }\n",
       "\n",
       "    .dataframe thead th {\n",
       "        text-align: right;\n",
       "    }\n",
       "</style>\n",
       "<table border=\"1\" class=\"dataframe\">\n",
       "  <thead>\n",
       "    <tr style=\"text-align: right;\">\n",
       "      <th></th>\n",
       "      <th>Branch</th>\n",
       "      <th>Average Total Sales</th>\n",
       "    </tr>\n",
       "  </thead>\n",
       "  <tbody>\n",
       "    <tr>\n",
       "      <th>0</th>\n",
       "      <td>A</td>\n",
       "      <td>310.29783</td>\n",
       "    </tr>\n",
       "    <tr>\n",
       "      <th>1</th>\n",
       "      <td>B</td>\n",
       "      <td>317.262586</td>\n",
       "    </tr>\n",
       "    <tr>\n",
       "      <th>2</th>\n",
       "      <td>C</td>\n",
       "      <td>321.663503</td>\n",
       "    </tr>\n",
       "  </tbody>\n",
       "</table>\n",
       "</div>"
      ],
      "text/plain": [
       "  Branch Average Total Sales\n",
       "0      A           310.29783\n",
       "1      B          317.262586\n",
       "2      C          321.663503"
      ]
     },
     "execution_count": 46,
     "metadata": {},
     "output_type": "execute_result"
    }
   ],
   "source": [
    "Branch2AverageTotalSales= pandas.DataFrame(sales.groupby(sales[\"Branch\"])[\"Total\"].mean().reset_index())\n",
    "Branch2AverageTotalSales.rename(columns={'Branch':'Branch', 'Total':'Average Total Sales'},inplace=True)\n",
    "Branch2AverageTotalSales"
   ]
  },
  {
   "cell_type": "code",
   "execution_count": 47,
   "id": "ddc849af",
   "metadata": {
    "papermill": {
     "duration": 0.025738,
     "end_time": "2025-05-07T07:56:49.791069",
     "exception": false,
     "start_time": "2025-05-07T07:56:49.765331",
     "status": "completed"
    },
    "tags": []
   },
   "outputs": [
    {
     "data": {
      "text/html": [
       "<div>\n",
       "<style scoped>\n",
       "    .dataframe tbody tr th:only-of-type {\n",
       "        vertical-align: middle;\n",
       "    }\n",
       "\n",
       "    .dataframe tbody tr th {\n",
       "        vertical-align: top;\n",
       "    }\n",
       "\n",
       "    .dataframe thead th {\n",
       "        text-align: right;\n",
       "    }\n",
       "</style>\n",
       "<table border=\"1\" class=\"dataframe\">\n",
       "  <thead>\n",
       "    <tr style=\"text-align: right;\">\n",
       "      <th></th>\n",
       "      <th>Branch</th>\n",
       "      <th>Average Products Quantities</th>\n",
       "    </tr>\n",
       "  </thead>\n",
       "  <tbody>\n",
       "    <tr>\n",
       "      <th>0</th>\n",
       "      <td>A</td>\n",
       "      <td>5.409786</td>\n",
       "    </tr>\n",
       "    <tr>\n",
       "      <th>1</th>\n",
       "      <td>B</td>\n",
       "      <td>5.446875</td>\n",
       "    </tr>\n",
       "    <tr>\n",
       "      <th>2</th>\n",
       "      <td>C</td>\n",
       "      <td>5.464516</td>\n",
       "    </tr>\n",
       "  </tbody>\n",
       "</table>\n",
       "</div>"
      ],
      "text/plain": [
       "  Branch Average Products Quantities\n",
       "0      A                    5.409786\n",
       "1      B                    5.446875\n",
       "2      C                    5.464516"
      ]
     },
     "execution_count": 47,
     "metadata": {},
     "output_type": "execute_result"
    }
   ],
   "source": [
    "Branch2AverageQuantities=pandas.DataFrame(sales.groupby(sales[\"Branch\"])[\"Quantity\"].mean().reset_index())\n",
    "Branch2AverageQuantities.rename(columns={'Branch':'Branch', 'Quantity':'Average Products Quantities'},inplace=True)\n",
    "Branch2AverageQuantities"
   ]
  },
  {
   "cell_type": "code",
   "execution_count": 48,
   "id": "1fc5609a",
   "metadata": {
    "papermill": {
     "duration": 0.024954,
     "end_time": "2025-05-07T07:56:49.831516",
     "exception": false,
     "start_time": "2025-05-07T07:56:49.806562",
     "status": "completed"
    },
    "tags": []
   },
   "outputs": [
    {
     "data": {
      "text/html": [
       "<div>\n",
       "<style scoped>\n",
       "    .dataframe tbody tr th:only-of-type {\n",
       "        vertical-align: middle;\n",
       "    }\n",
       "\n",
       "    .dataframe tbody tr th {\n",
       "        vertical-align: top;\n",
       "    }\n",
       "\n",
       "    .dataframe thead th {\n",
       "        text-align: right;\n",
       "    }\n",
       "</style>\n",
       "<table border=\"1\" class=\"dataframe\">\n",
       "  <thead>\n",
       "    <tr style=\"text-align: right;\">\n",
       "      <th></th>\n",
       "      <th>Branch</th>\n",
       "      <th>Average Customers Rating</th>\n",
       "    </tr>\n",
       "  </thead>\n",
       "  <tbody>\n",
       "    <tr>\n",
       "      <th>0</th>\n",
       "      <td>A</td>\n",
       "      <td>7.023853</td>\n",
       "    </tr>\n",
       "    <tr>\n",
       "      <th>1</th>\n",
       "      <td>B</td>\n",
       "      <td>6.81954</td>\n",
       "    </tr>\n",
       "    <tr>\n",
       "      <th>2</th>\n",
       "      <td>C</td>\n",
       "      <td>7.059032</td>\n",
       "    </tr>\n",
       "  </tbody>\n",
       "</table>\n",
       "</div>"
      ],
      "text/plain": [
       "  Branch Average Customers Rating\n",
       "0      A                 7.023853\n",
       "1      B                  6.81954\n",
       "2      C                 7.059032"
      ]
     },
     "execution_count": 48,
     "metadata": {},
     "output_type": "execute_result"
    }
   ],
   "source": [
    "Branch2AverageRating=pandas.DataFrame(sales.groupby(sales[\"Branch\"])[\"Rating\"].mean().reset_index())\n",
    "Branch2AverageRating.rename(columns={'Branch':'Branch', 'Rating':'Average Customers Rating'},inplace=True)\n",
    "Branch2AverageRating"
   ]
  },
  {
   "cell_type": "code",
   "execution_count": 49,
   "id": "8582d550",
   "metadata": {
    "papermill": {
     "duration": 0.025527,
     "end_time": "2025-05-07T07:56:49.871581",
     "exception": false,
     "start_time": "2025-05-07T07:56:49.846054",
     "status": "completed"
    },
    "scrolled": true,
    "tags": []
   },
   "outputs": [
    {
     "data": {
      "text/html": [
       "<div>\n",
       "<style scoped>\n",
       "    .dataframe tbody tr th:only-of-type {\n",
       "        vertical-align: middle;\n",
       "    }\n",
       "\n",
       "    .dataframe tbody tr th {\n",
       "        vertical-align: top;\n",
       "    }\n",
       "\n",
       "    .dataframe thead th {\n",
       "        text-align: right;\n",
       "    }\n",
       "</style>\n",
       "<table border=\"1\" class=\"dataframe\">\n",
       "  <thead>\n",
       "    <tr style=\"text-align: right;\">\n",
       "      <th></th>\n",
       "      <th>Branch</th>\n",
       "      <th>Average Payed Tax</th>\n",
       "    </tr>\n",
       "  </thead>\n",
       "  <tbody>\n",
       "    <tr>\n",
       "      <th>0</th>\n",
       "      <td>A</td>\n",
       "      <td>14.776087</td>\n",
       "    </tr>\n",
       "    <tr>\n",
       "      <th>1</th>\n",
       "      <td>B</td>\n",
       "      <td>15.107742</td>\n",
       "    </tr>\n",
       "    <tr>\n",
       "      <th>2</th>\n",
       "      <td>C</td>\n",
       "      <td>15.31731</td>\n",
       "    </tr>\n",
       "  </tbody>\n",
       "</table>\n",
       "</div>"
      ],
      "text/plain": [
       "  Branch Average Payed Tax\n",
       "0      A         14.776087\n",
       "1      B         15.107742\n",
       "2      C          15.31731"
      ]
     },
     "execution_count": 49,
     "metadata": {},
     "output_type": "execute_result"
    }
   ],
   "source": [
    "Branch2AverageTax = sales.groupby(sales[\"Branch\"])[\"Tax 5%\"].mean().reset_index()\n",
    "Branch2AverageTax.rename(columns={'Tax 5%': 'Average Payed Tax'}, inplace=True)\n",
    "Branch2AverageTax"
   ]
  },
  {
   "cell_type": "code",
   "execution_count": 50,
   "id": "d1c5195d",
   "metadata": {
    "papermill": {
     "duration": 0.022076,
     "end_time": "2025-05-07T07:56:49.908442",
     "exception": false,
     "start_time": "2025-05-07T07:56:49.886366",
     "status": "completed"
    },
    "tags": []
   },
   "outputs": [
    {
     "data": {
      "text/html": [
       "<div>\n",
       "<style scoped>\n",
       "    .dataframe tbody tr th:only-of-type {\n",
       "        vertical-align: middle;\n",
       "    }\n",
       "\n",
       "    .dataframe tbody tr th {\n",
       "        vertical-align: top;\n",
       "    }\n",
       "\n",
       "    .dataframe thead th {\n",
       "        text-align: right;\n",
       "    }\n",
       "</style>\n",
       "<table border=\"1\" class=\"dataframe\">\n",
       "  <thead>\n",
       "    <tr style=\"text-align: right;\">\n",
       "      <th>Customer type</th>\n",
       "      <th>Branch</th>\n",
       "      <th>Member</th>\n",
       "      <th>Normal</th>\n",
       "    </tr>\n",
       "  </thead>\n",
       "  <tbody>\n",
       "    <tr>\n",
       "      <th>0</th>\n",
       "      <td>A</td>\n",
       "      <td>153</td>\n",
       "      <td>174</td>\n",
       "    </tr>\n",
       "    <tr>\n",
       "      <th>1</th>\n",
       "      <td>B</td>\n",
       "      <td>147</td>\n",
       "      <td>173</td>\n",
       "    </tr>\n",
       "    <tr>\n",
       "      <th>2</th>\n",
       "      <td>C</td>\n",
       "      <td>155</td>\n",
       "      <td>155</td>\n",
       "    </tr>\n",
       "  </tbody>\n",
       "</table>\n",
       "</div>"
      ],
      "text/plain": [
       "Customer type Branch  Member  Normal\n",
       "0                  A     153     174\n",
       "1                  B     147     173\n",
       "2                  C     155     155"
      ]
     },
     "execution_count": 50,
     "metadata": {},
     "output_type": "execute_result"
    }
   ],
   "source": [
    "Branch2CustomerType"
   ]
  },
  {
   "cell_type": "code",
   "execution_count": 51,
   "id": "733613bb",
   "metadata": {
    "papermill": {
     "duration": 0.256084,
     "end_time": "2025-05-07T07:56:50.179543",
     "exception": false,
     "start_time": "2025-05-07T07:56:49.923459",
     "status": "completed"
    },
    "tags": []
   },
   "outputs": [
    {
     "data": {
      "image/png": "[encoded data removed]",
      "text/plain": [
       "<Figure size 1000x600 with 1 Axes>"
      ]
     },
     "metadata": {},
     "output_type": "display_data"
    }
   ],
   "source": [
    "pivot_table = pandas.pivot_table(data=sales,index=\"Customer type\",columns=\"Gender\",aggfunc=\"size\",fill_value=0)\n",
    "ax = pivot_table.plot(kind='bar', stacked=True, color=['#DDA0DD', '#8A2BE2'], figsize=(10,6))\n",
    "matplotlib.pyplot.title('Gender Distribution by Customer Type', fontsize=16)\n",
    "matplotlib.pyplot.xlabel('Customer Type', fontsize=12)\n",
    "matplotlib.pyplot.ylabel('Count', fontsize=12)\n",
    "for i, row in enumerate(pivot_table.values):\n",
    "    matplotlib.pyplot.text(i, row[0] / 2, str(row[0]), ha=\"center\", va=\"center\", fontsize=8)\n",
    "    matplotlib.pyplot.text(i, row[0] + row[1] / 2, str(row[1]), ha=\"center\", va=\"center\", fontsize=8)\n",
    "matplotlib.pyplot.tight_layout()\n",
    "matplotlib.pyplot.xticks(ticks=range(len(pivot_table.index)), labels=pivot_table.index, rotation=0)\n",
    "matplotlib.pyplot.show()"
   ]
  },
  {
   "cell_type": "code",
   "execution_count": 52,
   "id": "c06108b7",
   "metadata": {
    "papermill": {
     "duration": 0.269284,
     "end_time": "2025-05-07T07:56:50.466264",
     "exception": false,
     "start_time": "2025-05-07T07:56:50.196980",
     "status": "completed"
    },
    "tags": []
   },
   "outputs": [
    {
     "data": {
      "image/png": "[encoded data removed]",
      "text/plain": [
       "<Figure size 1000x600 with 1 Axes>"
      ]
     },
     "metadata": {},
     "output_type": "display_data"
    }
   ],
   "source": [
    "pivot_table = pandas.pivot_table(data=sales, index=\"Customer type\",columns=\"Product line\",aggfunc=\"size\",fill_value=0)\n",
    "ax = pivot_table.plot(kind='bar', stacked=True, figsize=(10,6), color=PALETTE[:len(pivot_table.columns)])\n",
    "matplotlib.pyplot.title('Product Line Distribution by Customer Type', fontsize=16)\n",
    "matplotlib.pyplot.xlabel('Customer Type', fontsize=12)\n",
    "matplotlib.pyplot.ylabel('Count', fontsize=12)\n",
    "for i, row in enumerate(pivot_table.values):\n",
    "    y_offset = 0\n",
    "    for j, value in enumerate(row):\n",
    "        matplotlib.pyplot.text(i, y_offset + value / 2, str(value), ha=\"center\", va=\"center\", fontsize=8)\n",
    "        y_offset += value\n",
    "matplotlib.pyplot.tight_layout()\n",
    "matplotlib.pyplot.show()"
   ]
  },
  {
   "cell_type": "code",
   "execution_count": 53,
   "id": "e9552857",
   "metadata": {
    "papermill": {
     "duration": 0.342798,
     "end_time": "2025-05-07T07:56:50.827334",
     "exception": false,
     "start_time": "2025-05-07T07:56:50.484536",
     "status": "completed"
    },
    "tags": []
   },
   "outputs": [
    {
     "data": {
      "image/png": "[encoded data removed]",
      "text/plain": [
       "<Figure size 1000x600 with 1 Axes>"
      ]
     },
     "metadata": {},
     "output_type": "display_data"
    }
   ],
   "source": [
    "pivot_table = pandas.pivot_table(data=sales, index=\"Customer type\",columns=\"Payment\",aggfunc=\"size\", fill_value=0)\n",
    "ax = pivot_table.plot(kind='bar', stacked=True, figsize=(10,6), color=PALETTE[:len(pivot_table.columns)])\n",
    "matplotlib.pyplot.title('Payment Method Distribution by Customer Type', fontsize=16)\n",
    "matplotlib.pyplot.xlabel('Customer Type', fontsize=12)\n",
    "matplotlib.pyplot.ylabel('Count', fontsize=12)\n",
    "for i, row in enumerate(pivot_table.values):\n",
    "    y_offset = 0\n",
    "    for j, value in enumerate(row):\n",
    "        matplotlib.pyplot.text(i, y_offset + value / 2, str(value), ha=\"center\", va=\"center\", fontsize=8)\n",
    "        y_offset += value\n",
    "matplotlib.pyplot.tight_layout()\n",
    "matplotlib.pyplot.show()"
   ]
  },
  {
   "cell_type": "code",
   "execution_count": 54,
   "id": "e5f8ad44",
   "metadata": {
    "papermill": {
     "duration": 0.028041,
     "end_time": "2025-05-07T07:56:50.873444",
     "exception": false,
     "start_time": "2025-05-07T07:56:50.845403",
     "status": "completed"
    },
    "tags": []
   },
   "outputs": [
    {
     "data": {
      "text/html": [
       "<div>\n",
       "<style scoped>\n",
       "    .dataframe tbody tr th:only-of-type {\n",
       "        vertical-align: middle;\n",
       "    }\n",
       "\n",
       "    .dataframe tbody tr th {\n",
       "        vertical-align: top;\n",
       "    }\n",
       "\n",
       "    .dataframe thead th {\n",
       "        text-align: right;\n",
       "    }\n",
       "</style>\n",
       "<table border=\"1\" class=\"dataframe\">\n",
       "  <thead>\n",
       "    <tr style=\"text-align: right;\">\n",
       "      <th></th>\n",
       "      <th>Customer type</th>\n",
       "      <th>Quantity</th>\n",
       "    </tr>\n",
       "  </thead>\n",
       "  <tbody>\n",
       "    <tr>\n",
       "      <th>0</th>\n",
       "      <td>Member</td>\n",
       "      <td>5.538462</td>\n",
       "    </tr>\n",
       "    <tr>\n",
       "      <th>1</th>\n",
       "      <td>Normal</td>\n",
       "      <td>5.350598</td>\n",
       "    </tr>\n",
       "  </tbody>\n",
       "</table>\n",
       "</div>"
      ],
      "text/plain": [
       "  Customer type  Quantity\n",
       "0        Member  5.538462\n",
       "1        Normal  5.350598"
      ]
     },
     "execution_count": 54,
     "metadata": {},
     "output_type": "execute_result"
    }
   ],
   "source": [
    "sales.groupby(sales[\"Customer type\"])[\"Quantity\"].mean().reset_index()"
   ]
  },
  {
   "cell_type": "code",
   "execution_count": 55,
   "id": "fc697e6d",
   "metadata": {
    "papermill": {
     "duration": 0.027603,
     "end_time": "2025-05-07T07:56:50.918175",
     "exception": false,
     "start_time": "2025-05-07T07:56:50.890572",
     "status": "completed"
    },
    "tags": []
   },
   "outputs": [
    {
     "data": {
      "text/html": [
       "<div>\n",
       "<style scoped>\n",
       "    .dataframe tbody tr th:only-of-type {\n",
       "        vertical-align: middle;\n",
       "    }\n",
       "\n",
       "    .dataframe tbody tr th {\n",
       "        vertical-align: top;\n",
       "    }\n",
       "\n",
       "    .dataframe thead th {\n",
       "        text-align: right;\n",
       "    }\n",
       "</style>\n",
       "<table border=\"1\" class=\"dataframe\">\n",
       "  <thead>\n",
       "    <tr style=\"text-align: right;\">\n",
       "      <th></th>\n",
       "      <th>Customer type</th>\n",
       "      <th>Total</th>\n",
       "    </tr>\n",
       "  </thead>\n",
       "  <tbody>\n",
       "    <tr>\n",
       "      <th>0</th>\n",
       "      <td>Member</td>\n",
       "      <td>324.188446</td>\n",
       "    </tr>\n",
       "    <tr>\n",
       "      <th>1</th>\n",
       "      <td>Normal</td>\n",
       "      <td>309.166058</td>\n",
       "    </tr>\n",
       "  </tbody>\n",
       "</table>\n",
       "</div>"
      ],
      "text/plain": [
       "  Customer type       Total\n",
       "0        Member  324.188446\n",
       "1        Normal  309.166058"
      ]
     },
     "execution_count": 55,
     "metadata": {},
     "output_type": "execute_result"
    }
   ],
   "source": [
    "sales.groupby(sales[\"Customer type\"])[\"Total\"].mean().reset_index()"
   ]
  },
  {
   "cell_type": "code",
   "execution_count": 56,
   "id": "5de9cdeb",
   "metadata": {
    "papermill": {
     "duration": 0.027894,
     "end_time": "2025-05-07T07:56:50.963117",
     "exception": false,
     "start_time": "2025-05-07T07:56:50.935223",
     "status": "completed"
    },
    "tags": []
   },
   "outputs": [
    {
     "data": {
      "text/html": [
       "<div>\n",
       "<style scoped>\n",
       "    .dataframe tbody tr th:only-of-type {\n",
       "        vertical-align: middle;\n",
       "    }\n",
       "\n",
       "    .dataframe tbody tr th {\n",
       "        vertical-align: top;\n",
       "    }\n",
       "\n",
       "    .dataframe thead th {\n",
       "        text-align: right;\n",
       "    }\n",
       "</style>\n",
       "<table border=\"1\" class=\"dataframe\">\n",
       "  <thead>\n",
       "    <tr style=\"text-align: right;\">\n",
       "      <th></th>\n",
       "      <th>Customer type</th>\n",
       "      <th>Rating</th>\n",
       "    </tr>\n",
       "  </thead>\n",
       "  <tbody>\n",
       "    <tr>\n",
       "      <th>0</th>\n",
       "      <td>Member</td>\n",
       "      <td>6.943516</td>\n",
       "    </tr>\n",
       "    <tr>\n",
       "      <th>1</th>\n",
       "      <td>Normal</td>\n",
       "      <td>6.988153</td>\n",
       "    </tr>\n",
       "  </tbody>\n",
       "</table>\n",
       "</div>"
      ],
      "text/plain": [
       "  Customer type    Rating\n",
       "0        Member  6.943516\n",
       "1        Normal  6.988153"
      ]
     },
     "execution_count": 56,
     "metadata": {},
     "output_type": "execute_result"
    }
   ],
   "source": [
    "sales.groupby(sales[\"Customer type\"])[\"Rating\"].mean().reset_index()"
   ]
  },
  {
   "cell_type": "code",
   "execution_count": 57,
   "id": "1f014a57",
   "metadata": {
    "papermill": {
     "duration": 0.288237,
     "end_time": "2025-05-07T07:56:51.269549",
     "exception": false,
     "start_time": "2025-05-07T07:56:50.981312",
     "status": "completed"
    },
    "tags": []
   },
   "outputs": [
    {
     "data": {
      "image/png": "[encoded data removed]",
      "text/plain": [
       "<Figure size 1000x600 with 1 Axes>"
      ]
     },
     "metadata": {},
     "output_type": "display_data"
    }
   ],
   "source": [
    "pivot_table = pandas.pivot_table(data=sales, index=\"Gender\", columns=\"Product line\", aggfunc=\"size\", fill_value=0)\n",
    "ax = pivot_table.plot(kind='bar', stacked=True, figsize=(10,6), color=PALETTE[:len(pivot_table.columns)])\n",
    "matplotlib.pyplot.title('Product Line Distribution by Customer Gender', fontsize=16)\n",
    "matplotlib.pyplot.xlabel('Customer Gender', fontsize=12)\n",
    "matplotlib.pyplot.ylabel('Count', fontsize=12)\n",
    "for i, row in enumerate(pivot_table.values):\n",
    "    y_offset = 0 \n",
    "    for j, value in enumerate(row):\n",
    "        matplotlib.pyplot.text(i, y_offset + value / 2, str(value), ha=\"center\", va=\"center\", fontsize=8)\n",
    "        y_offset += value\n",
    "matplotlib.pyplot.tight_layout()\n",
    "matplotlib.pyplot.show()"
   ]
  },
  {
   "cell_type": "code",
   "execution_count": 58,
   "id": "6a291a29",
   "metadata": {
    "papermill": {
     "duration": 0.235283,
     "end_time": "2025-05-07T07:56:51.524181",
     "exception": false,
     "start_time": "2025-05-07T07:56:51.288898",
     "status": "completed"
    },
    "tags": []
   },
   "outputs": [
    {
     "data": {
      "image/png": "[encoded data removed]",
      "text/plain": [
       "<Figure size 1000x600 with 1 Axes>"
      ]
     },
     "metadata": {},
     "output_type": "display_data"
    }
   ],
   "source": [
    "pivot_table = pandas.pivot_table(data=sales,index=\"Gender\",columns=\"Payment\",aggfunc=\"size\",fill_value=0)\n",
    "ax = pivot_table.plot(kind='bar', stacked=True, figsize=(10,6), color=[\"#10002B\", \"#240046\", \"#3C096C\"])\n",
    "matplotlib.pyplot.title('Payment Method Distribution by Customer Gender', fontsize=16)\n",
    "matplotlib.pyplot.xlabel('Customer Gender', fontsize=12)\n",
    "matplotlib.pyplot.ylabel('Count', fontsize=12)\n",
    "for i, row in enumerate(pivot_table.values):\n",
    "    y_offset = 0\n",
    "    for j, value in enumerate(row):\n",
    "        matplotlib.pyplot.text(i, y_offset + value / 2, str(value), ha=\"center\", va=\"center\", fontsize=8)\n",
    "        y_offset += value\n",
    "matplotlib.pyplot.tight_layout()\n",
    "matplotlib.pyplot.show()"
   ]
  },
  {
   "cell_type": "code",
   "execution_count": 59,
   "id": "685ae746",
   "metadata": {
    "papermill": {
     "duration": 0.029028,
     "end_time": "2025-05-07T07:56:51.572808",
     "exception": false,
     "start_time": "2025-05-07T07:56:51.543780",
     "status": "completed"
    },
    "tags": []
   },
   "outputs": [
    {
     "data": {
      "text/html": [
       "<div>\n",
       "<style scoped>\n",
       "    .dataframe tbody tr th:only-of-type {\n",
       "        vertical-align: middle;\n",
       "    }\n",
       "\n",
       "    .dataframe tbody tr th {\n",
       "        vertical-align: top;\n",
       "    }\n",
       "\n",
       "    .dataframe thead th {\n",
       "        text-align: right;\n",
       "    }\n",
       "</style>\n",
       "<table border=\"1\" class=\"dataframe\">\n",
       "  <thead>\n",
       "    <tr style=\"text-align: right;\">\n",
       "      <th></th>\n",
       "      <th>Gender</th>\n",
       "      <th>Quantity</th>\n",
       "    </tr>\n",
       "  </thead>\n",
       "  <tbody>\n",
       "    <tr>\n",
       "      <th>0</th>\n",
       "      <td>Female</td>\n",
       "      <td>5.692982</td>\n",
       "    </tr>\n",
       "    <tr>\n",
       "      <th>1</th>\n",
       "      <td>Male</td>\n",
       "      <td>5.209581</td>\n",
       "    </tr>\n",
       "  </tbody>\n",
       "</table>\n",
       "</div>"
      ],
      "text/plain": [
       "   Gender  Quantity\n",
       "0  Female  5.692982\n",
       "1    Male  5.209581"
      ]
     },
     "execution_count": 59,
     "metadata": {},
     "output_type": "execute_result"
    }
   ],
   "source": [
    "sales.groupby(sales[\"Gender\"])[\"Quantity\"].mean().reset_index()"
   ]
  },
  {
   "cell_type": "code",
   "execution_count": 60,
   "id": "01aad56f",
   "metadata": {
    "papermill": {
     "duration": 0.030719,
     "end_time": "2025-05-07T07:56:51.623409",
     "exception": false,
     "start_time": "2025-05-07T07:56:51.592690",
     "status": "completed"
    },
    "tags": []
   },
   "outputs": [
    {
     "data": {
      "text/html": [
       "<div>\n",
       "<style scoped>\n",
       "    .dataframe tbody tr th:only-of-type {\n",
       "        vertical-align: middle;\n",
       "    }\n",
       "\n",
       "    .dataframe tbody tr th {\n",
       "        vertical-align: top;\n",
       "    }\n",
       "\n",
       "    .dataframe thead th {\n",
       "        text-align: right;\n",
       "    }\n",
       "</style>\n",
       "<table border=\"1\" class=\"dataframe\">\n",
       "  <thead>\n",
       "    <tr style=\"text-align: right;\">\n",
       "      <th></th>\n",
       "      <th>Gender</th>\n",
       "      <th>Total</th>\n",
       "    </tr>\n",
       "  </thead>\n",
       "  <tbody>\n",
       "    <tr>\n",
       "      <th>0</th>\n",
       "      <td>Female</td>\n",
       "      <td>325.658513</td>\n",
       "    </tr>\n",
       "    <tr>\n",
       "      <th>1</th>\n",
       "      <td>Male</td>\n",
       "      <td>307.798048</td>\n",
       "    </tr>\n",
       "  </tbody>\n",
       "</table>\n",
       "</div>"
      ],
      "text/plain": [
       "   Gender       Total\n",
       "0  Female  325.658513\n",
       "1    Male  307.798048"
      ]
     },
     "execution_count": 60,
     "metadata": {},
     "output_type": "execute_result"
    }
   ],
   "source": [
    "sales.groupby(sales[\"Gender\"])[\"Total\"].mean().reset_index()"
   ]
  },
  {
   "cell_type": "code",
   "execution_count": 61,
   "id": "90b7250e",
   "metadata": {
    "papermill": {
     "duration": 0.030524,
     "end_time": "2025-05-07T07:56:51.674469",
     "exception": false,
     "start_time": "2025-05-07T07:56:51.643945",
     "status": "completed"
    },
    "tags": []
   },
   "outputs": [
    {
     "data": {
      "text/html": [
       "<div>\n",
       "<style scoped>\n",
       "    .dataframe tbody tr th:only-of-type {\n",
       "        vertical-align: middle;\n",
       "    }\n",
       "\n",
       "    .dataframe tbody tr th {\n",
       "        vertical-align: top;\n",
       "    }\n",
       "\n",
       "    .dataframe thead th {\n",
       "        text-align: right;\n",
       "    }\n",
       "</style>\n",
       "<table border=\"1\" class=\"dataframe\">\n",
       "  <thead>\n",
       "    <tr style=\"text-align: right;\">\n",
       "      <th></th>\n",
       "      <th>Gender</th>\n",
       "      <th>Rating</th>\n",
       "    </tr>\n",
       "  </thead>\n",
       "  <tbody>\n",
       "    <tr>\n",
       "      <th>0</th>\n",
       "      <td>Female</td>\n",
       "      <td>6.982237</td>\n",
       "    </tr>\n",
       "    <tr>\n",
       "      <th>1</th>\n",
       "      <td>Male</td>\n",
       "      <td>6.953</td>\n",
       "    </tr>\n",
       "  </tbody>\n",
       "</table>\n",
       "</div>"
      ],
      "text/plain": [
       "   Gender    Rating\n",
       "0  Female  6.982237\n",
       "1    Male     6.953"
      ]
     },
     "execution_count": 61,
     "metadata": {},
     "output_type": "execute_result"
    }
   ],
   "source": [
    "sales.groupby(sales[\"Gender\"])[\"Rating\"].mean().reset_index()"
   ]
  },
  {
   "cell_type": "code",
   "execution_count": 62,
   "id": "a3445463",
   "metadata": {
    "papermill": {
     "duration": 0.030449,
     "end_time": "2025-05-07T07:56:51.725918",
     "exception": false,
     "start_time": "2025-05-07T07:56:51.695469",
     "status": "completed"
    },
    "tags": []
   },
   "outputs": [
    {
     "data": {
      "text/html": [
       "<div>\n",
       "<style scoped>\n",
       "    .dataframe tbody tr th:only-of-type {\n",
       "        vertical-align: middle;\n",
       "    }\n",
       "\n",
       "    .dataframe tbody tr th {\n",
       "        vertical-align: top;\n",
       "    }\n",
       "\n",
       "    .dataframe thead th {\n",
       "        text-align: right;\n",
       "    }\n",
       "</style>\n",
       "<table border=\"1\" class=\"dataframe\">\n",
       "  <thead>\n",
       "    <tr style=\"text-align: right;\">\n",
       "      <th></th>\n",
       "      <th>Product line</th>\n",
       "      <th>Unit price</th>\n",
       "    </tr>\n",
       "  </thead>\n",
       "  <tbody>\n",
       "    <tr>\n",
       "      <th>0</th>\n",
       "      <td>Electronic accessories</td>\n",
       "      <td>54.463537</td>\n",
       "    </tr>\n",
       "    <tr>\n",
       "      <th>1</th>\n",
       "      <td>Fashion accessories</td>\n",
       "      <td>57.023393</td>\n",
       "    </tr>\n",
       "    <tr>\n",
       "      <th>2</th>\n",
       "      <td>Food and beverages</td>\n",
       "      <td>55.937066</td>\n",
       "    </tr>\n",
       "    <tr>\n",
       "      <th>3</th>\n",
       "      <td>Health and beauty</td>\n",
       "      <td>55.103172</td>\n",
       "    </tr>\n",
       "    <tr>\n",
       "      <th>4</th>\n",
       "      <td>Home and lifestyle</td>\n",
       "      <td>54.436184</td>\n",
       "    </tr>\n",
       "    <tr>\n",
       "      <th>5</th>\n",
       "      <td>Sports and travel</td>\n",
       "      <td>57.087267</td>\n",
       "    </tr>\n",
       "  </tbody>\n",
       "</table>\n",
       "</div>"
      ],
      "text/plain": [
       "             Product line Unit price\n",
       "0  Electronic accessories  54.463537\n",
       "1     Fashion accessories  57.023393\n",
       "2      Food and beverages  55.937066\n",
       "3       Health and beauty  55.103172\n",
       "4      Home and lifestyle  54.436184\n",
       "5       Sports and travel  57.087267"
      ]
     },
     "execution_count": 62,
     "metadata": {},
     "output_type": "execute_result"
    }
   ],
   "source": [
    "sales.groupby(sales[\"Product line\"])[\"Unit price\"].mean().reset_index()"
   ]
  },
  {
   "cell_type": "code",
   "execution_count": 63,
   "id": "b10578be",
   "metadata": {
    "papermill": {
     "duration": 0.030642,
     "end_time": "2025-05-07T07:56:51.775938",
     "exception": false,
     "start_time": "2025-05-07T07:56:51.745296",
     "status": "completed"
    },
    "tags": []
   },
   "outputs": [
    {
     "data": {
      "text/html": [
       "<div>\n",
       "<style scoped>\n",
       "    .dataframe tbody tr th:only-of-type {\n",
       "        vertical-align: middle;\n",
       "    }\n",
       "\n",
       "    .dataframe tbody tr th {\n",
       "        vertical-align: top;\n",
       "    }\n",
       "\n",
       "    .dataframe thead th {\n",
       "        text-align: right;\n",
       "    }\n",
       "</style>\n",
       "<table border=\"1\" class=\"dataframe\">\n",
       "  <thead>\n",
       "    <tr style=\"text-align: right;\">\n",
       "      <th></th>\n",
       "      <th>Product line</th>\n",
       "      <th>Quantity</th>\n",
       "    </tr>\n",
       "  </thead>\n",
       "  <tbody>\n",
       "    <tr>\n",
       "      <th>0</th>\n",
       "      <td>Electronic accessories</td>\n",
       "      <td>5.682927</td>\n",
       "    </tr>\n",
       "    <tr>\n",
       "      <th>1</th>\n",
       "      <td>Fashion accessories</td>\n",
       "      <td>4.952381</td>\n",
       "    </tr>\n",
       "    <tr>\n",
       "      <th>2</th>\n",
       "      <td>Food and beverages</td>\n",
       "      <td>5.39521</td>\n",
       "    </tr>\n",
       "    <tr>\n",
       "      <th>3</th>\n",
       "      <td>Health and beauty</td>\n",
       "      <td>5.6</td>\n",
       "    </tr>\n",
       "    <tr>\n",
       "      <th>4</th>\n",
       "      <td>Home and lifestyle</td>\n",
       "      <td>5.598684</td>\n",
       "    </tr>\n",
       "    <tr>\n",
       "      <th>5</th>\n",
       "      <td>Sports and travel</td>\n",
       "      <td>5.453416</td>\n",
       "    </tr>\n",
       "  </tbody>\n",
       "</table>\n",
       "</div>"
      ],
      "text/plain": [
       "             Product line  Quantity\n",
       "0  Electronic accessories  5.682927\n",
       "1     Fashion accessories  4.952381\n",
       "2      Food and beverages   5.39521\n",
       "3       Health and beauty       5.6\n",
       "4      Home and lifestyle  5.598684\n",
       "5       Sports and travel  5.453416"
      ]
     },
     "execution_count": 63,
     "metadata": {},
     "output_type": "execute_result"
    }
   ],
   "source": [
    "sales.groupby(sales[\"Product line\"])[\"Quantity\"].mean().reset_index()"
   ]
  },
  {
   "cell_type": "code",
   "execution_count": 64,
   "id": "baf68aaf",
   "metadata": {
    "papermill": {
     "duration": 0.03185,
     "end_time": "2025-05-07T07:56:51.827668",
     "exception": false,
     "start_time": "2025-05-07T07:56:51.795818",
     "status": "completed"
    },
    "tags": []
   },
   "outputs": [
    {
     "data": {
      "text/html": [
       "<div>\n",
       "<style scoped>\n",
       "    .dataframe tbody tr th:only-of-type {\n",
       "        vertical-align: middle;\n",
       "    }\n",
       "\n",
       "    .dataframe tbody tr th {\n",
       "        vertical-align: top;\n",
       "    }\n",
       "\n",
       "    .dataframe thead th {\n",
       "        text-align: right;\n",
       "    }\n",
       "</style>\n",
       "<table border=\"1\" class=\"dataframe\">\n",
       "  <thead>\n",
       "    <tr style=\"text-align: right;\">\n",
       "      <th></th>\n",
       "      <th>Product line</th>\n",
       "      <th>Total</th>\n",
       "    </tr>\n",
       "  </thead>\n",
       "  <tbody>\n",
       "    <tr>\n",
       "      <th>0</th>\n",
       "      <td>Electronic accessories</td>\n",
       "      <td>323.577155</td>\n",
       "    </tr>\n",
       "    <tr>\n",
       "      <th>1</th>\n",
       "      <td>Fashion accessories</td>\n",
       "      <td>290.94625</td>\n",
       "    </tr>\n",
       "    <tr>\n",
       "      <th>2</th>\n",
       "      <td>Food and beverages</td>\n",
       "      <td>316.396877</td>\n",
       "    </tr>\n",
       "    <tr>\n",
       "      <th>3</th>\n",
       "      <td>Health and beauty</td>\n",
       "      <td>323.048648</td>\n",
       "    </tr>\n",
       "    <tr>\n",
       "      <th>4</th>\n",
       "      <td>Home and lifestyle</td>\n",
       "      <td>319.420224</td>\n",
       "    </tr>\n",
       "    <tr>\n",
       "      <th>5</th>\n",
       "      <td>Sports and travel</td>\n",
       "      <td>326.268783</td>\n",
       "    </tr>\n",
       "  </tbody>\n",
       "</table>\n",
       "</div>"
      ],
      "text/plain": [
       "             Product line       Total\n",
       "0  Electronic accessories  323.577155\n",
       "1     Fashion accessories   290.94625\n",
       "2      Food and beverages  316.396877\n",
       "3       Health and beauty  323.048648\n",
       "4      Home and lifestyle  319.420224\n",
       "5       Sports and travel  326.268783"
      ]
     },
     "execution_count": 64,
     "metadata": {},
     "output_type": "execute_result"
    }
   ],
   "source": [
    "sales.groupby(sales[\"Product line\"])[\"Total\"].mean().reset_index()"
   ]
  },
  {
   "cell_type": "code",
   "execution_count": 65,
   "id": "444afd8c",
   "metadata": {
    "papermill": {
     "duration": 0.034591,
     "end_time": "2025-05-07T07:56:51.885468",
     "exception": false,
     "start_time": "2025-05-07T07:56:51.850877",
     "status": "completed"
    },
    "tags": []
   },
   "outputs": [
    {
     "data": {
      "text/html": [
       "<div>\n",
       "<style scoped>\n",
       "    .dataframe tbody tr th:only-of-type {\n",
       "        vertical-align: middle;\n",
       "    }\n",
       "\n",
       "    .dataframe tbody tr th {\n",
       "        vertical-align: top;\n",
       "    }\n",
       "\n",
       "    .dataframe thead th {\n",
       "        text-align: right;\n",
       "    }\n",
       "</style>\n",
       "<table border=\"1\" class=\"dataframe\">\n",
       "  <thead>\n",
       "    <tr style=\"text-align: right;\">\n",
       "      <th></th>\n",
       "      <th>Product line</th>\n",
       "      <th>Rating</th>\n",
       "    </tr>\n",
       "  </thead>\n",
       "  <tbody>\n",
       "    <tr>\n",
       "      <th>0</th>\n",
       "      <td>Electronic accessories</td>\n",
       "      <td>6.92439</td>\n",
       "    </tr>\n",
       "    <tr>\n",
       "      <th>1</th>\n",
       "      <td>Fashion accessories</td>\n",
       "      <td>6.983333</td>\n",
       "    </tr>\n",
       "    <tr>\n",
       "      <th>2</th>\n",
       "      <td>Food and beverages</td>\n",
       "      <td>7.122156</td>\n",
       "    </tr>\n",
       "    <tr>\n",
       "      <th>3</th>\n",
       "      <td>Health and beauty</td>\n",
       "      <td>7.011724</td>\n",
       "    </tr>\n",
       "    <tr>\n",
       "      <th>4</th>\n",
       "      <td>Home and lifestyle</td>\n",
       "      <td>6.872059</td>\n",
       "    </tr>\n",
       "    <tr>\n",
       "      <th>5</th>\n",
       "      <td>Sports and travel</td>\n",
       "      <td>6.881366</td>\n",
       "    </tr>\n",
       "  </tbody>\n",
       "</table>\n",
       "</div>"
      ],
      "text/plain": [
       "             Product line    Rating\n",
       "0  Electronic accessories   6.92439\n",
       "1     Fashion accessories  6.983333\n",
       "2      Food and beverages  7.122156\n",
       "3       Health and beauty  7.011724\n",
       "4      Home and lifestyle  6.872059\n",
       "5       Sports and travel  6.881366"
      ]
     },
     "execution_count": 65,
     "metadata": {},
     "output_type": "execute_result"
    }
   ],
   "source": [
    "sales.groupby(sales[\"Product line\"])[\"Rating\"].mean().reset_index()"
   ]
  },
  {
   "cell_type": "code",
   "execution_count": 66,
   "id": "e9f821f2",
   "metadata": {
    "papermill": {
     "duration": 0.031147,
     "end_time": "2025-05-07T07:56:51.938370",
     "exception": false,
     "start_time": "2025-05-07T07:56:51.907223",
     "status": "completed"
    },
    "tags": []
   },
   "outputs": [
    {
     "data": {
      "text/html": [
       "<div>\n",
       "<style scoped>\n",
       "    .dataframe tbody tr th:only-of-type {\n",
       "        vertical-align: middle;\n",
       "    }\n",
       "\n",
       "    .dataframe tbody tr th {\n",
       "        vertical-align: top;\n",
       "    }\n",
       "\n",
       "    .dataframe thead th {\n",
       "        text-align: right;\n",
       "    }\n",
       "</style>\n",
       "<table border=\"1\" class=\"dataframe\">\n",
       "  <thead>\n",
       "    <tr style=\"text-align: right;\">\n",
       "      <th></th>\n",
       "      <th>Payment</th>\n",
       "      <th>Total</th>\n",
       "    </tr>\n",
       "  </thead>\n",
       "  <tbody>\n",
       "    <tr>\n",
       "      <th>0</th>\n",
       "      <td>Cash</td>\n",
       "      <td>321.781298</td>\n",
       "    </tr>\n",
       "    <tr>\n",
       "      <th>1</th>\n",
       "      <td>Credit card</td>\n",
       "      <td>316.686216</td>\n",
       "    </tr>\n",
       "    <tr>\n",
       "      <th>2</th>\n",
       "      <td>Ewallet</td>\n",
       "      <td>310.560245</td>\n",
       "    </tr>\n",
       "  </tbody>\n",
       "</table>\n",
       "</div>"
      ],
      "text/plain": [
       "       Payment       Total\n",
       "0         Cash  321.781298\n",
       "1  Credit card  316.686216\n",
       "2      Ewallet  310.560245"
      ]
     },
     "execution_count": 66,
     "metadata": {},
     "output_type": "execute_result"
    }
   ],
   "source": [
    "sales.groupby(sales[\"Payment\"])[\"Total\"].mean().reset_index()"
   ]
  },
  {
   "cell_type": "code",
   "execution_count": 67,
   "id": "e5687990",
   "metadata": {
    "papermill": {
     "duration": 0.02889,
     "end_time": "2025-05-07T07:56:51.987491",
     "exception": false,
     "start_time": "2025-05-07T07:56:51.958601",
     "status": "completed"
    },
    "tags": []
   },
   "outputs": [
    {
     "data": {
      "text/html": [
       "<div>\n",
       "<style scoped>\n",
       "    .dataframe tbody tr th:only-of-type {\n",
       "        vertical-align: middle;\n",
       "    }\n",
       "\n",
       "    .dataframe tbody tr th {\n",
       "        vertical-align: top;\n",
       "    }\n",
       "\n",
       "    .dataframe thead th {\n",
       "        text-align: right;\n",
       "    }\n",
       "</style>\n",
       "<table border=\"1\" class=\"dataframe\">\n",
       "  <thead>\n",
       "    <tr style=\"text-align: right;\">\n",
       "      <th></th>\n",
       "      <th>Payment</th>\n",
       "      <th>Rating</th>\n",
       "    </tr>\n",
       "  </thead>\n",
       "  <tbody>\n",
       "    <tr>\n",
       "      <th>0</th>\n",
       "      <td>Cash</td>\n",
       "      <td>6.993578</td>\n",
       "    </tr>\n",
       "    <tr>\n",
       "      <th>1</th>\n",
       "      <td>Credit card</td>\n",
       "      <td>6.958528</td>\n",
       "    </tr>\n",
       "    <tr>\n",
       "      <th>2</th>\n",
       "      <td>Ewallet</td>\n",
       "      <td>6.948196</td>\n",
       "    </tr>\n",
       "  </tbody>\n",
       "</table>\n",
       "</div>"
      ],
      "text/plain": [
       "       Payment    Rating\n",
       "0         Cash  6.993578\n",
       "1  Credit card  6.958528\n",
       "2      Ewallet  6.948196"
      ]
     },
     "execution_count": 67,
     "metadata": {},
     "output_type": "execute_result"
    }
   ],
   "source": [
    "sales.groupby(sales[\"Payment\"])[\"Rating\"].mean().reset_index()"
   ]
  },
  {
   "cell_type": "code",
   "execution_count": 68,
   "id": "82967d21",
   "metadata": {
    "papermill": {
     "duration": 0.036629,
     "end_time": "2025-05-07T07:56:52.044634",
     "exception": false,
     "start_time": "2025-05-07T07:56:52.008005",
     "status": "completed"
    },
    "tags": []
   },
   "outputs": [],
   "source": [
    "sales.to_csv(\"/home/hussein-ali/CORE/Supermarket Sales Analysis/data/clean-sales-data.CSV\")"
   ]
  },
  {
   "cell_type": "code",
   "execution_count": null,
   "id": "b1736c0d-f67d-4e8e-9823-964af7ae193b",
   "metadata": {},
   "outputs": [],
   "source": []
  }
 ],
 "metadata": {
  "kaggle": {
   "accelerator": "nvidiaTeslaT4",
   "dataSources": [
    {
     "datasetId": 7319879,
     "sourceId": 11663606,
     "sourceType": "datasetVersion"
    }
   ],
   "dockerImageVersionId": 31011,
   "isGpuEnabled": true,
   "isInternetEnabled": true,
   "language": "python",
   "sourceType": "notebook"
  },
  "kernelspec": {
   "display_name": "Python 3 (ipykernel)",
   "language": "python",
   "name": "python3"
  },
  "language_info": {
   "codemirror_mode": {
    "name": "ipython",
    "version": 3
   },
   "file_extension": ".py",
   "mimetype": "text/x-python",
   "name": "python",
   "nbconvert_exporter": "python",
   "pygments_lexer": "ipython3",
   "version": "3.13.3"
  },
  "papermill": {
   "default_parameters": {},
   "duration": 13.626427,
   "end_time": "2025-05-07T07:56:52.583593",
   "environment_variables": {},
   "exception": null,
   "input_path": "__notebook__.ipynb",
   "output_path": "__notebook__.ipynb",
   "parameters": {},
   "start_time": "2025-05-07T07:56:38.957166",
   "version": "2.6.0"
  }
 },
 "nbformat": 4,
 "nbformat_minor": 5
}
